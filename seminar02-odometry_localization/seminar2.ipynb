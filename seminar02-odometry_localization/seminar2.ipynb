{
 "cells": [
  {
   "cell_type": "markdown",
   "metadata": {
    "deletable": true,
    "editable": true
   },
   "source": [
    "### Колёсная одометрия"
   ]
  },
  {
   "cell_type": "code",
   "execution_count": 1,
   "metadata": {
    "collapsed": false,
    "deletable": true,
    "editable": true
   },
   "outputs": [],
   "source": [
    "import pandas as pd\n",
    "import numpy as np\n",
    "import matplotlib.pyplot as plt\n",
    "%matplotlib inline\n",
    "import numpy as np\n",
    "calibration_localization = pd.read_csv(\"calibration_localization.csv\").sort_values(by='stamp')\n",
    "calibration_odometry = pd.read_csv(\"calibration_odometry.csv\").sort_values(by='stamp')\n",
    "localization = pd.read_csv(\"localization.csv\").sort_values(by='stamp')\n",
    "odometry = pd.read_csv(\"odometry.csv\").sort_values(by='stamp')"
   ]
  },
  {
   "cell_type": "code",
   "execution_count": 2,
   "metadata": {
    "collapsed": false,
    "deletable": true,
    "editable": true
   },
   "outputs": [
    {
     "data": {
      "text/html": [
       "<div>\n",
       "<table border=\"1\" class=\"dataframe\">\n",
       "  <thead>\n",
       "    <tr style=\"text-align: right;\">\n",
       "      <th></th>\n",
       "      <th>stamp</th>\n",
       "      <th>steering_is_set</th>\n",
       "      <th>steering</th>\n",
       "      <th>wheel_velocities_is_set</th>\n",
       "      <th>front_left_velocity</th>\n",
       "      <th>front_right_velocity</th>\n",
       "      <th>rear_left_velocity</th>\n",
       "      <th>rear_right_velocity</th>\n",
       "    </tr>\n",
       "  </thead>\n",
       "  <tbody>\n",
       "    <tr>\n",
       "      <th>0</th>\n",
       "      <td>1.518461e+09</td>\n",
       "      <td>False</td>\n",
       "      <td>0.0</td>\n",
       "      <td>True</td>\n",
       "      <td>5.0</td>\n",
       "      <td>4.980556</td>\n",
       "      <td>4.913889</td>\n",
       "      <td>4.919444</td>\n",
       "    </tr>\n",
       "    <tr>\n",
       "      <th>1</th>\n",
       "      <td>1.518461e+09</td>\n",
       "      <td>True</td>\n",
       "      <td>-2.0</td>\n",
       "      <td>False</td>\n",
       "      <td>0.0</td>\n",
       "      <td>0.000000</td>\n",
       "      <td>0.000000</td>\n",
       "      <td>0.000000</td>\n",
       "    </tr>\n",
       "  </tbody>\n",
       "</table>\n",
       "</div>"
      ],
      "text/plain": [
       "          stamp steering_is_set  steering wheel_velocities_is_set  \\\n",
       "0  1.518461e+09           False       0.0                    True   \n",
       "1  1.518461e+09            True      -2.0                   False   \n",
       "\n",
       "   front_left_velocity  front_right_velocity  rear_left_velocity  \\\n",
       "0                  5.0              4.980556            4.913889   \n",
       "1                  0.0              0.000000            0.000000   \n",
       "\n",
       "   rear_right_velocity  \n",
       "0             4.919444  \n",
       "1             0.000000  "
      ]
     },
     "execution_count": 2,
     "metadata": {},
     "output_type": "execute_result"
    }
   ],
   "source": [
    "calibration_odometry[:2]"
   ]
  },
  {
   "cell_type": "code",
   "execution_count": 3,
   "metadata": {
    "collapsed": false,
    "deletable": true,
    "editable": true
   },
   "outputs": [
    {
     "data": {
      "text/html": [
       "<div>\n",
       "<table border=\"1\" class=\"dataframe\">\n",
       "  <thead>\n",
       "    <tr style=\"text-align: right;\">\n",
       "      <th></th>\n",
       "      <th>stamp</th>\n",
       "      <th>steering_is_set</th>\n",
       "      <th>steering</th>\n",
       "      <th>wheel_velocities_is_set</th>\n",
       "      <th>front_left_velocity</th>\n",
       "      <th>front_right_velocity</th>\n",
       "      <th>rear_left_velocity</th>\n",
       "      <th>rear_right_velocity</th>\n",
       "    </tr>\n",
       "  </thead>\n",
       "  <tbody>\n",
       "    <tr>\n",
       "      <th>0</th>\n",
       "      <td>1.518461e+09</td>\n",
       "      <td>False</td>\n",
       "      <td>0.0</td>\n",
       "      <td>True</td>\n",
       "      <td>5.0</td>\n",
       "      <td>4.980556</td>\n",
       "      <td>4.913889</td>\n",
       "      <td>4.919444</td>\n",
       "    </tr>\n",
       "    <tr>\n",
       "      <th>1</th>\n",
       "      <td>1.518461e+09</td>\n",
       "      <td>True</td>\n",
       "      <td>-2.0</td>\n",
       "      <td>False</td>\n",
       "      <td>0.0</td>\n",
       "      <td>0.000000</td>\n",
       "      <td>0.000000</td>\n",
       "      <td>0.000000</td>\n",
       "    </tr>\n",
       "  </tbody>\n",
       "</table>\n",
       "</div>"
      ],
      "text/plain": [
       "          stamp steering_is_set  steering wheel_velocities_is_set  \\\n",
       "0  1.518461e+09           False       0.0                    True   \n",
       "1  1.518461e+09            True      -2.0                   False   \n",
       "\n",
       "   front_left_velocity  front_right_velocity  rear_left_velocity  \\\n",
       "0                  5.0              4.980556            4.913889   \n",
       "1                  0.0              0.000000            0.000000   \n",
       "\n",
       "   rear_right_velocity  \n",
       "0             4.919444  \n",
       "1             0.000000  "
      ]
     },
     "execution_count": 3,
     "metadata": {},
     "output_type": "execute_result"
    }
   ],
   "source": [
    "calibration_odometry[:2]"
   ]
  },
  {
   "cell_type": "markdown",
   "metadata": {
    "deletable": true,
    "editable": true
   },
   "source": [
    "#### Параметры машины:\n",
    "- steering_base - сдвиг начального значения поворота руля\n",
    "- front_wheel_angle_to_steering - коэффициент пропорциональности между углом поворота передних колёс и углом поворота руля\n",
    "- rear_left_coefficient - линейная поправка скорости заднего левого колеса\n",
    "- rear_right_coefficient - линейная поправка скорости заднего правого колеса"
   ]
  },
  {
   "cell_type": "code",
   "execution_count": 4,
   "metadata": {
    "collapsed": true,
    "deletable": true,
    "editable": true
   },
   "outputs": [],
   "source": [
    "steering_base = 5.0\n",
    "front_wheel_angle_to_steering = 12.7\n",
    "rear_right_coefficient = 1.0086226141262378\n",
    "rear_left_coefficient = 1.009079525155482\n",
    "rear_track_width = 1.65"
   ]
  },
  {
   "cell_type": "markdown",
   "metadata": {
    "deletable": true,
    "editable": true
   },
   "source": [
    "### Пример работы одометрии на задних колёсах:"
   ]
  },
  {
   "cell_type": "code",
   "execution_count": 5,
   "metadata": {
    "collapsed": false,
    "deletable": true,
    "editable": true
   },
   "outputs": [
    {
     "ename": "IndentationError",
     "evalue": "expected an indented block (<ipython-input-5-d17435c0864d>, line 7)",
     "output_type": "error",
     "traceback": [
      "\u001b[0;36m  File \u001b[0;32m\"<ipython-input-5-d17435c0864d>\"\u001b[0;36m, line \u001b[0;32m7\u001b[0m\n\u001b[0;31m    def get_angular_velocity(rear_right_velocity, rear_left_velocity, rear_track_width):\u001b[0m\n\u001b[0m      ^\u001b[0m\n\u001b[0;31mIndentationError\u001b[0m\u001b[0;31m:\u001b[0m expected an indented block\n"
     ]
    }
   ],
   "source": [
    "import math\n",
    "import time\n",
    "\n",
    "def get_linear_velocity(rear_right_velocity, rear_left_velocity):\n",
    "    #Написать функция\n",
    "\n",
    "def get_angular_velocity(rear_right_velocity, rear_left_velocity, rear_track_width):\n",
    "    #Написать функцию\n",
    "\n",
    "def update_position(position, dt, linear_velocity, angular_velocity):\n",
    "    if (abs(angular_velocity) > 1e-6):\n",
    "        phi = angular_velocity * dt\n",
    "        # cuvrature radius\n",
    "        radius = linear_velocity / angular_velocity\n",
    "        movement = [radius * math.sin(phi), radius * (1 - math.cos(phi))]\n",
    "        position['yaw'] += phi\n",
    "    else:\n",
    "        #Написать этот вариант\n",
    "    yaw = position['yaw']\n",
    "    #Тут должно быть что-то типо position += повернуть movement на yaw\n",
    "    position['stamp'] += dt\n",
    "\n",
    "def get_odom_localization(init_position, odometry, rear_track_width):\n",
    "    odom_x = []\n",
    "    odom_y = []\n",
    "    break_flag = False\n",
    "    processed_total = 0\n",
    "    last_time_published = time.time()\n",
    "    rear_wheel_odometry = odometry[odometry['wheel_velocities_is_set'] == True]\n",
    "    total = float(len(rear_wheel_odometry['stamp']))\n",
    "    last_rear_right_velocity = 0.0\n",
    "    last_rear_left_velocity = 0.0\n",
    "    for odometry_idx in rear_wheel_odometry.T:\n",
    "        odom_stamp = rear_wheel_odometry['stamp'][odometry_idx]\n",
    "        odom_x.append(position['x'])\n",
    "        odom_y.append(position['y'])\n",
    "        rear_right_velocity = rear_wheel_odometry['rear_right_velocity'][odometry_idx]\n",
    "        rear_left_velocity = rear_wheel_odometry['rear_left_velocity'][odometry_idx]\n",
    "        rear_right_velocity *= rear_right_coefficient\n",
    "        rear_left_velocity *= rear_left_coefficient\n",
    "        linear_velocity = get_linear_velocity(last_rear_right_velocity, last_rear_left_velocity)\n",
    "        angular_velocity = get_angular_velocity(last_rear_right_velocity, last_rear_left_velocity, rear_track_width)\n",
    "\n",
    "        dt = odom_stamp - position['stamp']\n",
    "        update_position(position, dt, linear_velocity, angular_velocity)\n",
    "        processed_total += 1\n",
    "        if (last_time_published + 1.0 < time.time()):\n",
    "            last_time_published = time.time()\n",
    "            print 'Processed = ', (processed_total / total)\n",
    "        last_rear_right_velocity = rear_right_velocity\n",
    "        last_rear_left_velocity = rear_left_velocity\n",
    "    print 'Processed = ', (processed_total / total)\n",
    "    return odom_x, odom_y\n",
    "\n",
    "position = {'x' : calibration_localization['x'][0],\n",
    "            'y' : calibration_localization['y'][0],\n",
    "            'yaw' : calibration_localization['yaw'][0],\n",
    "            'stamp' : calibration_localization['stamp'][0]}\n",
    "odom_x, odom_y = get_odom_localization(position, calibration_odometry, rear_track_width)"
   ]
  },
  {
   "cell_type": "markdown",
   "metadata": {
    "deletable": true,
    "editable": true
   },
   "source": [
    "### Визуализация результатов работы"
   ]
  },
  {
   "cell_type": "code",
   "execution_count": 6,
   "metadata": {
    "collapsed": false,
    "deletable": true,
    "editable": true
   },
   "outputs": [
    {
     "ename": "NameError",
     "evalue": "name 'odom_x' is not defined",
     "output_type": "error",
     "traceback": [
      "\u001b[0;31m---------------------------------------------------------------------------\u001b[0m",
      "\u001b[0;31mNameError\u001b[0m                                 Traceback (most recent call last)",
      "\u001b[0;32m<ipython-input-6-7710118d3276>\u001b[0m in \u001b[0;36m<module>\u001b[0;34m()\u001b[0m\n\u001b[1;32m      7\u001b[0m     \u001b[0mplt\u001b[0m\u001b[0;34m.\u001b[0m\u001b[0mgrid\u001b[0m\u001b[0;34m(\u001b[0m\u001b[0mTrue\u001b[0m\u001b[0;34m)\u001b[0m\u001b[0;34m\u001b[0m\u001b[0m\n\u001b[1;32m      8\u001b[0m     \u001b[0mplt\u001b[0m\u001b[0;34m.\u001b[0m\u001b[0mshow\u001b[0m\u001b[0;34m(\u001b[0m\u001b[0;34m)\u001b[0m\u001b[0;34m\u001b[0m\u001b[0m\n\u001b[0;32m----> 9\u001b[0;31m \u001b[0mshow_locs\u001b[0m\u001b[0;34m(\u001b[0m\u001b[0mcalibration_localization\u001b[0m\u001b[0;34m[\u001b[0m\u001b[0;34m'x'\u001b[0m\u001b[0;34m]\u001b[0m\u001b[0;34m,\u001b[0m \u001b[0mcalibration_localization\u001b[0m\u001b[0;34m[\u001b[0m\u001b[0;34m'y'\u001b[0m\u001b[0;34m]\u001b[0m\u001b[0;34m,\u001b[0m \u001b[0modom_x\u001b[0m\u001b[0;34m,\u001b[0m \u001b[0modom_y\u001b[0m\u001b[0;34m)\u001b[0m\u001b[0;34m\u001b[0m\u001b[0m\n\u001b[0m",
      "\u001b[0;31mNameError\u001b[0m: name 'odom_x' is not defined"
     ]
    }
   ],
   "source": [
    "def show_locs(loc_x, loc_y, odom_x, odom_y):\n",
    "    fig = plt.figure()\n",
    "    plt.plot(loc_x, loc_y)\n",
    "    plt.plot(odom_x, odom_y)\n",
    "    plt.ylabel('y')\n",
    "    plt.xlabel('x')\n",
    "    plt.grid(True)\n",
    "    plt.show()\n",
    "show_locs(calibration_localization['x'], calibration_localization['y'], odom_x, odom_y)"
   ]
  },
  {
   "cell_type": "markdown",
   "metadata": {
    "deletable": true,
    "editable": true
   },
   "source": [
    "### Набросать функцию, результат которой мы будет минимизировать"
   ]
  },
  {
   "cell_type": "code",
   "execution_count": 9,
   "metadata": {
    "collapsed": false,
    "deletable": true,
    "editable": true
   },
   "outputs": [],
   "source": [
    "import copy\n",
    "def diff(rear_track_width):\n",
    "    max_loc_idx = calibration_localization.shape[0] - 1\n",
    "    loc_idx = 1\n",
    "    result_diff = []\n",
    "    position = copy.deepcopy(calibration_localization.T[1])\n",
    "    odom_position = copy.deepcopy(calibration_localization.T[0])\n",
    "    #Вот тут должна быть copy-past-а из get_odom_localization с доработками\n",
    "    return np.array(result_diff)"
   ]
  },
  {
   "cell_type": "code",
   "execution_count": 10,
   "metadata": {
    "collapsed": false,
    "deletable": true,
    "editable": true
   },
   "outputs": [
    {
     "name": "stdout",
     "output_type": "stream",
     "text": [
      "Step result = 0 params= [ 1.5]\n",
      "Step result = 0 params= [ 1.65]\n"
     ]
    }
   ],
   "source": [
    "def diff_params(params):\n",
    "    res = diff(params[0])\n",
    "    print 'Step result =', sum(res ** 2), 'params=', params\n",
    "    return res\n",
    "from scipy.optimize import least_squares\n",
    "res = least_squares(fun=diff_params, x0=[ 1.5], bounds=([1.45], [1.65]), diff_step=[0.1], max_nfev=5)"
   ]
  },
  {
   "cell_type": "code",
   "execution_count": 11,
   "metadata": {
    "collapsed": false,
    "deletable": true,
    "editable": true
   },
   "outputs": [
    {
     "name": "stdout",
     "output_type": "stream",
     "text": [
      "Step result = 0 params= [1.5]\n",
      "Step result = 0 params= [1.54]\n",
      "Step result = 0 params= [1.55]\n"
     ]
    },
    {
     "data": {
      "text/plain": [
       "array([], dtype=float64)"
      ]
     },
     "execution_count": 11,
     "metadata": {},
     "output_type": "execute_result"
    }
   ],
   "source": [
    "diff_params([1.5])\n",
    "diff_params([1.54])\n",
    "diff_params([1.55])"
   ]
  },
  {
   "cell_type": "code",
   "execution_count": null,
   "metadata": {
    "collapsed": true,
    "deletable": true,
    "editable": true
   },
   "outputs": [],
   "source": [
    "best_rear_track_width = ...."
   ]
  },
  {
   "cell_type": "markdown",
   "metadata": {
    "deletable": true,
    "editable": true
   },
   "source": [
    "### Результат после подбора параметров"
   ]
  },
  {
   "cell_type": "code",
   "execution_count": 12,
   "metadata": {
    "collapsed": false,
    "deletable": true,
    "editable": true
   },
   "outputs": [
    {
     "ename": "NameError",
     "evalue": "name 'get_odom_localization' is not defined",
     "output_type": "error",
     "traceback": [
      "\u001b[0;31m---------------------------------------------------------------------------\u001b[0m",
      "\u001b[0;31mNameError\u001b[0m                                 Traceback (most recent call last)",
      "\u001b[0;32m<ipython-input-12-663c2ee2c128>\u001b[0m in \u001b[0;36m<module>\u001b[0;34m()\u001b[0m\n\u001b[1;32m      5\u001b[0m             \u001b[0;34m'yaw'\u001b[0m \u001b[0;34m:\u001b[0m \u001b[0mcalibration_localization\u001b[0m\u001b[0;34m[\u001b[0m\u001b[0;34m'yaw'\u001b[0m\u001b[0;34m]\u001b[0m\u001b[0;34m[\u001b[0m\u001b[0;36m0\u001b[0m\u001b[0;34m]\u001b[0m\u001b[0;34m,\u001b[0m\u001b[0;34m\u001b[0m\u001b[0m\n\u001b[1;32m      6\u001b[0m             'stamp' : calibration_localization['stamp'][0]}\n\u001b[0;32m----> 7\u001b[0;31m \u001b[0modom_x\u001b[0m\u001b[0;34m,\u001b[0m \u001b[0modom_y\u001b[0m \u001b[0;34m=\u001b[0m \u001b[0mget_odom_localization\u001b[0m\u001b[0;34m(\u001b[0m\u001b[0mposition\u001b[0m\u001b[0;34m,\u001b[0m \u001b[0mcalibration_odometry\u001b[0m\u001b[0;34m,\u001b[0m \u001b[0mbest_rear_track_width\u001b[0m\u001b[0;34m)\u001b[0m\u001b[0;34m\u001b[0m\u001b[0m\n\u001b[0m\u001b[1;32m      8\u001b[0m \u001b[0;31m#show_locs(calibration_localization['x'], calibration_localization['y'], odom_x, odom_y)\u001b[0m\u001b[0;34m\u001b[0m\u001b[0;34m\u001b[0m\u001b[0m\n",
      "\u001b[0;31mNameError\u001b[0m: name 'get_odom_localization' is not defined"
     ]
    }
   ],
   "source": [
    "import math\n",
    "import time\n",
    "position = {'x' : calibration_localization['x'][0],\n",
    "            'y' : calibration_localization['y'][0],\n",
    "            'yaw' : calibration_localization['yaw'][0],\n",
    "            'stamp' : calibration_localization['stamp'][0]}\n",
    "odom_x, odom_y = get_odom_localization(position, calibration_odometry, best_rear_track_width)\n",
    "#show_locs(calibration_localization['x'], calibration_localization['y'], odom_x, odom_y)"
   ]
  },
  {
   "cell_type": "markdown",
   "metadata": {
    "deletable": true,
    "editable": true
   },
   "source": [
    "#### Посмотрим - на все ли проезды наш параметр идеален:"
   ]
  },
  {
   "cell_type": "code",
   "execution_count": 13,
   "metadata": {
    "collapsed": false,
    "deletable": true,
    "editable": true
   },
   "outputs": [
    {
     "ename": "NameError",
     "evalue": "name 'get_odom_localization' is not defined",
     "output_type": "error",
     "traceback": [
      "\u001b[0;31m---------------------------------------------------------------------------\u001b[0m",
      "\u001b[0;31mNameError\u001b[0m                                 Traceback (most recent call last)",
      "\u001b[0;32m<ipython-input-13-5aa52800ff8f>\u001b[0m in \u001b[0;36m<module>\u001b[0;34m()\u001b[0m\n\u001b[1;32m      3\u001b[0m             \u001b[0;34m'yaw'\u001b[0m \u001b[0;34m:\u001b[0m \u001b[0mlocalization\u001b[0m\u001b[0;34m[\u001b[0m\u001b[0;34m'yaw'\u001b[0m\u001b[0;34m]\u001b[0m\u001b[0;34m[\u001b[0m\u001b[0;36m0\u001b[0m\u001b[0;34m]\u001b[0m\u001b[0;34m,\u001b[0m\u001b[0;34m\u001b[0m\u001b[0m\n\u001b[1;32m      4\u001b[0m             'stamp' : localization['stamp'][0]}\n\u001b[0;32m----> 5\u001b[0;31m \u001b[0modom_x\u001b[0m\u001b[0;34m,\u001b[0m \u001b[0modom_y\u001b[0m \u001b[0;34m=\u001b[0m \u001b[0mget_odom_localization\u001b[0m\u001b[0;34m(\u001b[0m\u001b[0mposition\u001b[0m\u001b[0;34m,\u001b[0m \u001b[0modometry\u001b[0m\u001b[0;34m,\u001b[0m \u001b[0mrear_track_width\u001b[0m\u001b[0;34m)\u001b[0m\u001b[0;34m\u001b[0m\u001b[0m\n\u001b[0m\u001b[1;32m      6\u001b[0m \u001b[0;31m#show_locs(localization['x'], localization['y'], odom_x, odom_y)\u001b[0m\u001b[0;34m\u001b[0m\u001b[0;34m\u001b[0m\u001b[0m\n",
      "\u001b[0;31mNameError\u001b[0m: name 'get_odom_localization' is not defined"
     ]
    }
   ],
   "source": [
    "position = {'x' : localization['x'][0],\n",
    "            'y' : localization['y'][0],\n",
    "            'yaw' : localization['yaw'][0],\n",
    "            'stamp' : localization['stamp'][0]}\n",
    "odom_x, odom_y = get_odom_localization(position, odometry, rear_track_width)\n",
    "#show_locs(localization['x'], localization['y'], odom_x, odom_y)"
   ]
  },
  {
   "cell_type": "code",
   "execution_count": 14,
   "metadata": {
    "collapsed": false,
    "deletable": true,
    "editable": true
   },
   "outputs": [
    {
     "ename": "NameError",
     "evalue": "name 'get_odom_localization' is not defined",
     "output_type": "error",
     "traceback": [
      "\u001b[0;31m---------------------------------------------------------------------------\u001b[0m",
      "\u001b[0;31mNameError\u001b[0m                                 Traceback (most recent call last)",
      "\u001b[0;32m<ipython-input-14-1e0cb992d6ed>\u001b[0m in \u001b[0;36m<module>\u001b[0;34m()\u001b[0m\n\u001b[1;32m      3\u001b[0m             \u001b[0;34m'yaw'\u001b[0m \u001b[0;34m:\u001b[0m \u001b[0mlocalization\u001b[0m\u001b[0;34m[\u001b[0m\u001b[0;34m'yaw'\u001b[0m\u001b[0;34m]\u001b[0m\u001b[0;34m[\u001b[0m\u001b[0;36m0\u001b[0m\u001b[0;34m]\u001b[0m\u001b[0;34m,\u001b[0m\u001b[0;34m\u001b[0m\u001b[0m\n\u001b[1;32m      4\u001b[0m             'stamp' : localization['stamp'][0]}\n\u001b[0;32m----> 5\u001b[0;31m \u001b[0modom_x\u001b[0m\u001b[0;34m,\u001b[0m \u001b[0modom_y\u001b[0m \u001b[0;34m=\u001b[0m \u001b[0mget_odom_localization\u001b[0m\u001b[0;34m(\u001b[0m\u001b[0mposition\u001b[0m\u001b[0;34m,\u001b[0m \u001b[0modometry\u001b[0m\u001b[0;34m,\u001b[0m \u001b[0mbest_rear_track_width\u001b[0m\u001b[0;34m)\u001b[0m\u001b[0;34m\u001b[0m\u001b[0m\n\u001b[0m\u001b[1;32m      6\u001b[0m \u001b[0;31m#show_locs(localization['x'], localization['y'], odom_x, odom_y)\u001b[0m\u001b[0;34m\u001b[0m\u001b[0;34m\u001b[0m\u001b[0m\n",
      "\u001b[0;31mNameError\u001b[0m: name 'get_odom_localization' is not defined"
     ]
    }
   ],
   "source": [
    "position = {'x' : localization['x'][0],\n",
    "            'y' : localization['y'][0],\n",
    "            'yaw' : localization['yaw'][0],\n",
    "            'stamp' : localization['stamp'][0]}\n",
    "odom_x, odom_y = get_odom_localization(position, odometry, best_rear_track_width)\n",
    "#show_locs(localization['x'], localization['y'], odom_x, odom_y)"
   ]
  },
  {
   "cell_type": "markdown",
   "metadata": {},
   "source": [
    "### Почему последнии графики такие такие они есть?"
   ]
  }
 ],
 "metadata": {
  "kernelspec": {
   "display_name": "Python 2",
   "language": "python",
   "name": "python2"
  },
  "language_info": {
   "codemirror_mode": {
    "name": "ipython",
    "version": 2
   },
   "file_extension": ".py",
   "mimetype": "text/x-python",
   "name": "python",
   "nbconvert_exporter": "python",
   "pygments_lexer": "ipython2",
   "version": "2.7.12"
  }
 },
 "nbformat": 4,
 "nbformat_minor": 2
}
