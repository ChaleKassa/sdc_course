{
 "cells": [
  {
   "cell_type": "markdown",
   "metadata": {},
   "source": [
    "## Что делать с нормальным распределением\n",
    "\n",
    "![](img/not-a-normal.jpeg)\n",
    "\n",
    "### Оставим старую схему но попробуем работать с произвольным распределением\n",
    "\n",
    "![](img/recursive.png)\n",
    "\n",
    "### Не будем интегрировать прошлое и проследим за совместной плотностью $x_0, x_1, \\ldots, x_t = x_{0\\ldots t}$\n",
    "\n",
    "$p(x_{0 \\ldots t} \\vert z_{1 \\ldots t})$\n",
    "\n",
    "$ = \\eta p(z_t \\vert x_{0 \\ldots t}, z_{1 \\ldots t-1}) p(x_{0 \\ldots t} \\vert z_{1 \\ldots t - 1})$\n",
    "\n",
    "$ = p(z_t \\vert x_t) p(x_{0 \\ldots t} \\vert z_{1 \\ldots t - 1})$ (см. схему)\n",
    "\n",
    "$ = p(z_t \\vert x_t) p(x_t \\vert x_{0 \\ldots t-1} z_{1 \\ldots t-1}) p(x_{0 \\ldots t - 1} \\vert z_{1 \\ldots t - 1})$\n",
    "\n",
    "$ = p(z_t \\vert x_t) p(x_t \\vert x_{t-1}) p(x_{0 \\ldots t - 1} \\vert z_{1 \\ldots t - 1}) = p_{target}$"
   ]
  },
  {
   "cell_type": "markdown",
   "metadata": {},
   "source": [
    "## Идея\n",
    "\n",
    "![](img/pf.png)\n",
    "\n",
    "Пусть в какой-то момент времени $t-1$ нам удалось разыграть примеры из $p(x_{0 \\ldots t - 1} \\vert z_{1 \\ldots t - 1})$\n",
    "\n",
    "В момент времени $t$ поступило измерение $z_t$\n",
    "\n",
    "Сгенерируем примеры из распределения $p(x_t \\vert x_{t-1})$ и припишем им веса $w = p(z_t \\vert x_t)$\n",
    "\n",
    "### В каком распределении живут примеры?\n",
    "\n",
    "$p_{proposal} = p(x_t \\vert x_{t-1}) p(x_{0 \\ldots t - 1} \\vert z_{1 \\ldots t - 1})$\n",
    "\n",
    "### Чему равны веса?\n",
    "\n",
    "$w = \\frac{p_{proposal}}{p_{target}}$\n",
    "\n",
    "\n",
    "### Что же получилось?\n",
    "\n",
    "Можно оценивать матодидание чего-нибудь по этому набору, учитывая сэмплы с весами\n",
    "\n",
    "$E[f(x)] \\sim \\sum f(x_i) w _i$"
   ]
  },
  {
   "cell_type": "markdown",
   "metadata": {},
   "source": [
    "# Алгоритм фильтра частиц\n",
    "\n",
    "Поддерживаем набор частиц - $X_{t-1} = {x_{t-1}^1, \\ldots, x_{t-1}^m}$\n",
    "\n",
    "#### Предсказание\n",
    "\n",
    "Сэмплируем временный надор частиц $\\hat{X_t} = {\\hat{x}_{t}^1, \\ldots, \\hat{x}_{t}^m}$ из переходного распределения $x_t \\sim p(x_t \\vert x_{t-1})$\n",
    "\n",
    "#### Измерение\n",
    "\n",
    "Каждой из временных частиц приписываем вес $w_i = p(z_t \\vert \\hat{x_t^i})$\n",
    "\n",
    "#### Пересемплирование\n",
    "\n",
    "Выбираем с повторенями из набора временных частиц, частицы с вероятностью пропорциональной их весам $w_i$\n",
    "\n",
    "#### Как думаете зачем нужен этот шаг?"
   ]
  },
  {
   "cell_type": "code",
   "execution_count": 2,
   "metadata": {},
   "outputs": [
    {
     "data": {
      "text/html": [
       "<iframe width=\"560\" height=\"315\" src=\"https://www.youtube.com/embed/AMX_OcweGv0\" frameborder=\"0\" allow=\"autoplay; encrypted-media\" allowfullscreen></iframe>"
      ],
      "text/plain": [
       "<IPython.core.display.HTML object>"
      ]
     },
     "execution_count": 2,
     "metadata": {},
     "output_type": "execute_result"
    }
   ],
   "source": [
    "# https://www.youtube.com/watch?v=AMX_OcweGv0\n",
    "from IPython.display import HTML\n",
    "\n",
    "# Youtube\n",
    "HTML('<iframe width=\"560\" height=\"315\" src=\"https://www.youtube.com/embed/AMX_OcweGv0\" frameborder=\"0\" allow=\"autoplay; encrypted-media\" allowfullscreen></iframe>')\n"
   ]
  }
 ],
 "metadata": {
  "kernelspec": {
   "display_name": "Python 2",
   "language": "python",
   "name": "python2"
  },
  "language_info": {
   "codemirror_mode": {
    "name": "ipython",
    "version": 2
   },
   "file_extension": ".py",
   "mimetype": "text/x-python",
   "name": "python",
   "nbconvert_exporter": "python",
   "pygments_lexer": "ipython2",
   "version": "2.7.13"
  }
 },
 "nbformat": 4,
 "nbformat_minor": 2
}
