{
 "cells": [
  {
   "cell_type": "markdown",
   "metadata": {},
   "source": [
    "$\\newcommand{\\Normal}{\\mathcal{N}}\n",
    "\\newcommand{\\lp}{\\left(}\n",
    "\\newcommand{\\rp}{\\right)}\n",
    "\\newcommand{\\lf}{\\left\\{}\n",
    "\\newcommand{\\rf}{\\right\\}}\n",
    "\\newcommand{\\ls}{\\left[}\n",
    "\\newcommand{\\rs}{\\right]}\n",
    "\\newcommand{\\lv}{\\left|}\n",
    "\\newcommand{\\rv}{\\right|}\n",
    "\\newcommand{\\state}{x}\n",
    "\\newcommand{\\State}{\\boldx}\n",
    "\\newcommand{\\StateR}{\\boldX}\n",
    "\\newcommand{\\Covariance}{\\Sigma}\n",
    "\\newcommand{\\CovX}{\\Covariance_{\\boldX}}\n",
    "\\newcommand{\\CovY}{\\Covariance_{\\boldY}}\n",
    "\\newcommand{\\CovZ}{\\Covariance_{\\boldZ}}\n",
    "\\newcommand{\\CovXY}{\\Covariance_{\\boldX\\boldY}}\n",
    "\\newcommand{\\hatState}{\\hat{\\State}}\n",
    "\\newcommand{\\StateNum}{N}\n",
    "\\newcommand{\\StateDim}{K}\n",
    "\\newcommand{\\NumStates}{N}\n",
    "\\newcommand{\\StateToState}{A}\n",
    "\\newcommand{\\stateToState}{A}\n",
    "\\newcommand{\\StateCov}{\\Sigma}\n",
    "\\newcommand{\\StateJac}{A}\n",
    "\\newcommand{\\hatStateCov}{\\hat{\\StateCov}}\n",
    "\\newcommand{\\StateMean}{\\boldmu}\n",
    "\\newcommand{\\hatStateMean}{\\hat{\\StateMean}}\n",
    "\\newcommand{\\StateToStateHistory}{\\boldA}\n",
    "\\newcommand{\\StateNoise}{\\boldr}\n",
    "\\newcommand{\\StateNoiseCov}{R}\n",
    "\\newcommand{\\StateHistory}{\\boldX}\n",
    "\\newcommand{\\StatesHistory}{\\StateHistory}\n",
    "\\newcommand{\\StateToObserv}{C}\n",
    "\\newcommand{\\StateToobserv}{\\boldc}\n",
    "\\newcommand{\\StateToObservHistory}{\\boldC}\n",
    "\\newcommand{\\DState}{\\bolddelta}\n",
    "\\newcommand{\\hatDState}{\\hat{\\DState}}\n",
    "\\newcommand{\\DStateMean}{\\boldlambda}\n",
    "\\newcommand{\\hatDStateMean}{\\hat{\\DStateMean}}\n",
    "\\newcommand{\\DStateCov}{\\Lambda}\n",
    "\\newcommand{\\hatDStateCov}{\\hat{\\DStateCov}}\n",
    "\\newcommand{\\DObserv}{\\boldgamma}\n",
    "\\newcommand{\\hatDObserv}{\\hat{\\DObserv}}\n",
    "\\newcommand{\\observ}{z}\n",
    "\\newcommand{\\Observ}{\\boldsymbol{\\observ}}\n",
    "\\newcommand{\\ObservCov}{\\Lambda}\n",
    "\\newcommand{\\observMean}{\\lambda}\n",
    "\\newcommand{\\ObservMean}{\\boldlambda}\n",
    "\\newcommand{\\hatobserv}{\\hat{\\observ}}\n",
    "\\newcommand{\\hatObserv}{\\hat{\\Observ}}\n",
    "\\newcommand{\\hatObservCov}{\\hat{\\ObservCov}}\n",
    "\\newcommand{\\hatobservMean}{\\hat{\\observMean}}\n",
    "\\newcommand{\\hatObservMean}{\\hat{\\ObservMean}}\n",
    "\\newcommand{\\ObservSet}{\\ZZ}\n",
    "\\newcommand{\\ObservNum}{N}\n",
    "\\newcommand{\\ObservDim}{D}\n",
    "\\newcommand{\\ObservSourceNum}{M}\n",
    "\\newcommand{\\ObservHistory}{\\boldZ}\n",
    "\\newcommand{\\ObservsHistory}{\\ObservHistory}\n",
    "\\newcommand{\\Timestamps}{\\boldT}\n",
    "\\newcommand{\\ObservJac}{H}\n",
    "\\newcommand{\\observNoise}{q}\n",
    "\\newcommand{\\ObservNoise}{\\boldq}\n",
    "\\newcommand{\\ObservNoiseCov}{Q}\n",
    "\\newcommand{\\ObservNoiseCovHistory}{\\boldQ}\n",
    "\\newcommand{\\Jacobian}{\\boldJ}\n",
    "\\newcommand{\\Kalman}{K}\n",
    "\\newcommand{\\kalman}{\\boldk}\n",
    "\\newcommand{\\CC}{\\mathbb{C}}\n",
    "\\newcommand{\\NN}{\\mathbb{N}}\n",
    "\\newcommand{\\RR}{\\mathbb{R}}\n",
    "\\newcommand{\\XX}{\\mathbb{X}}\n",
    "\\newcommand{\\ZZ}{\\mathbb{Z}}\n",
    "\\renewcommand{\\AA}{\\mathbb{A}}\n",
    "\\newcommand{\\boldzero}{\\boldsymbol{0}}\n",
    "\\newcommand{\\boldone}{\\boldsymbol{1}}\n",
    "\\newcommand{\\bolda}{\\boldsymbol{a}}\n",
    "\\newcommand{\\boldb}{\\boldsymbol{b}}\n",
    "\\newcommand{\\boldc}{\\boldsymbol{c}}\n",
    "\\newcommand{\\boldd}{\\boldsymbol{d}}\n",
    "\\newcommand{\\bolde}{\\boldsymbol{e}}\n",
    "\\newcommand{\\boldf}{\\boldsymbol{f}}\n",
    "\\newcommand{\\boldg}{\\boldsymbol{g}}\n",
    "\\newcommand{\\boldh}{\\boldsymbol{h}}\n",
    "\\newcommand{\\boldi}{\\boldsymbol{i}}\n",
    "\\newcommand{\\boldj}{\\boldsymbol{j}}\n",
    "\\newcommand{\\boldk}{\\boldsymbol{k}}\n",
    "\\newcommand{\\boldl}{\\boldsymbol{l}}\n",
    "\\newcommand{\\boldm}{\\boldsymbol{m}}\n",
    "\\newcommand{\\boldn}{\\boldsymbol{n}}\n",
    "\\newcommand{\\boldo}{\\boldsymbol{o}}\n",
    "\\newcommand{\\boldp}{\\boldsymbol{p}}\n",
    "\\newcommand{\\boldq}{\\boldsymbol{q}}\n",
    "\\newcommand{\\boldr}{\\boldsymbol{r}}\n",
    "\\newcommand{\\bolds}{\\boldsymbol{s}}\n",
    "\\newcommand{\\boldt}{\\boldsymbol{t}}\n",
    "\\newcommand{\\boldu}{\\boldsymbol{u}}\n",
    "\\newcommand{\\boldv}{\\boldsymbol{v}}\n",
    "\\newcommand{\\boldw}{\\boldsymbol{w}}\n",
    "\\newcommand{\\boldx}{\\boldsymbol{x}}\n",
    "\\newcommand{\\boldy}{\\boldsymbol{y}}\n",
    "\\newcommand{\\boldz}{\\boldsymbol{z}}\n",
    "\\newcommand{\\boldA}{\\boldsymbol{A}}\n",
    "\\newcommand{\\boldB}{\\boldsymbol{B}}\n",
    "\\newcommand{\\boldC}{\\boldsymbol{C}}\n",
    "\\newcommand{\\boldD}{\\boldsymbol{D}}\n",
    "\\newcommand{\\boldE}{\\boldsymbol{E}}\n",
    "\\newcommand{\\boldF}{\\boldsymbol{F}}\n",
    "\\newcommand{\\boldH}{\\boldsymbol{H}}\n",
    "\\newcommand{\\boldJ}{\\boldsymbol{J}}\n",
    "\\newcommand{\\boldK}{\\boldsymbol{K}}\n",
    "\\newcommand{\\boldL}{\\boldsymbol{L}}\n",
    "\\newcommand{\\boldM}{\\boldsymbol{M}}\n",
    "\\newcommand{\\boldI}{\\boldsymbol{I}}\n",
    "\\newcommand{\\boldP}{\\boldsymbol{P}}\n",
    "\\newcommand{\\boldQ}{\\boldsymbol{Q}}\n",
    "\\newcommand{\\boldR}{\\boldsymbol{R}}\n",
    "\\newcommand{\\boldS}{\\boldsymbol{S}}\n",
    "\\newcommand{\\boldT}{\\boldsymbol{T}}\n",
    "\\newcommand{\\boldO}{\\boldsymbol{O}}\n",
    "\\newcommand{\\boldU}{\\boldsymbol{U}}\n",
    "\\newcommand{\\boldV}{\\boldsymbol{V}}\n",
    "\\newcommand{\\boldW}{\\boldsymbol{W}}\n",
    "\\newcommand{\\boldX}{\\boldsymbol{X}}\n",
    "\\newcommand{\\boldY}{\\boldsymbol{Y}}\n",
    "\\newcommand{\\boldZ}{\\boldsymbol{Z}}\n",
    "\\newcommand{\\boldXY}{\\boldsymbol{XY}}\n",
    "\\newcommand{\\boldmu}{\\boldsymbol{\\mu}}$"
   ]
  },
  {
   "cell_type": "code",
   "execution_count": 1,
   "metadata": {},
   "outputs": [],
   "source": [
    "import numpy as np\n",
    "from matplotlib import pyplot as plt\n",
    "from matplotlib.patches import Ellipse, Rectangle\n",
    "from IPython import display\n",
    "import time\n",
    "from matplotlib.lines import Line2D\n",
    "%matplotlib inline"
   ]
  },
  {
   "cell_type": "markdown",
   "metadata": {},
   "source": [
    "## 1. Class `Timestamp`\n",
    "Represents time with nanosecond-level accuracy. It also supports:\n",
    "* arithmetic operations\n",
    "* casting to seconds and milliseconds\n",
    "* initialization from seconds, milliseconds etc via static methods\n",
    "\n",
    "Examples:"
   ]
  },
  {
   "cell_type": "code",
   "execution_count": 2,
   "metadata": {},
   "outputs": [
    {
     "name": "stdout",
     "output_type": "stream",
     "text": [
      "t1 = Time(sec=1,nsec=12333)\n",
      "t2 = Time(sec=5,nsec=33149)\n",
      "t1 + t2 = Time(sec=6,nsec=45482)\n",
      "t2 - t1 = Time(sec=4,nsec=20816)\n",
      "t1.to_seconds() = 1.000012333s\n",
      "t1.to_milliseconds() = 1000.0123329999999ms\n",
      "t1.to_microseconds() = 1000012.3329999999us\n",
      "t1.to_nanoseconds() = 1000012332.9999999ns\n"
     ]
    }
   ],
   "source": [
    "from sdc.timestamp import Timestamp\n",
    "\n",
    "t1 = Timestamp(sec=1, nsec=12333)\n",
    "t2 = Timestamp(sec=5, nsec=33149)\n",
    "print('t1 = {}'.format(t1))\n",
    "print('t2 = {}'.format(t2))\n",
    "\n",
    "# Создание\n",
    "print('t1 + t2 = {}'.format(t1 + t2))\n",
    "print('t2 - t1 = {}'.format(t2 - t1))\n",
    "\n",
    "# Преобразования\n",
    "print('t1.to_seconds() = {}s'.format(t1.to_seconds()))\n",
    "print('t1.to_milliseconds() = {}ms'.format(t1.to_milliseconds()))\n",
    "print('t1.to_microseconds() = {}us'.format(t1.to_microseconds()))\n",
    "print('t1.to_nanoseconds() = {}ns'.format(t1.to_nanoseconds()))\n",
    "\n",
    "# Статические методы-фабрики\n",
    "t = Timestamp.seconds(5)\n",
    "t = Timestamp.milliseconds(5)\n",
    "t = Timestamp.microseconds(5)\n",
    "t = Timestamp.nanoseconds(5)"
   ]
  },
  {
   "cell_type": "markdown",
   "metadata": {},
   "source": [
    "## 2. Real car model and its parameters"
   ]
  },
  {
   "cell_type": "markdown",
   "metadata": {},
   "source": [
    "Classes in this section form a kind of \"simulator\" for real car and real sensors behavior. We will use this classes for generation of ground truth data for localization and sensor observations."
   ]
  },
  {
   "cell_type": "markdown",
   "metadata": {},
   "source": [
    "### Class `Car`\n",
    "Represents real car model"
   ]
  },
  {
   "cell_type": "code",
   "execution_count": 5,
   "metadata": {},
   "outputs": [
    {
     "name": "stdout",
     "output_type": "stream",
     "text": [
      "Current state of car and time:\n",
      "Car(x=1.00[m], y=2.00[m], yaw=0.00[rad], v=5.00[m/s], omega=0.00[rad/s], t=Time(sec=0,nsec=0))\n",
      "\n",
      "Accessing real car state via properties:\n",
      "car.x     = 1.0[m]\n",
      "car.y     = 2.0[m]\n",
      "car.yaw   = 0.0[rad]\n",
      "car.v     = 5.0[m/s]\n",
      "car.omega = 0.0[rad/s]\n"
     ]
    }
   ],
   "source": [
    "from sdc.car import Car\n",
    "\n",
    "initial_position = [1., 2.]\n",
    "initial_velocity = 5.\n",
    "initial_yaw = 0.\n",
    "initial_omega = 0.\n",
    "car = Car(initial_position=initial_position, initial_velocity=initial_velocity, initial_yaw=initial_yaw)\n",
    "\n",
    "print(\"Current state of car and time:\")\n",
    "print(car) \n",
    "\n",
    "print('\\nAccessing real car state via properties:')\n",
    "print('car.x     = {}[m]'.format(car._position_x))\n",
    "print('car.y     = {}[m]'.format(car._position_y))\n",
    "print('car.yaw   = {}[rad]'.format(car._yaw))\n",
    "print('car.v     = {}[m/s]'.format(car._velocity))\n",
    "print('car.omega = {}[rad/s]'.format(car._omega))"
   ]
  },
  {
   "cell_type": "markdown",
   "metadata": {},
   "source": [
    "### Movement trajectory (classes `MovementModelBase`, `LinearMovementModel` and `CycloidMovementModel`)\n",
    "Represent real trajectory of a car. Have method `_move(car, time_interval)` which \"moves\" the car and canges its state and time. This method is called inside `car.move(time_interval)` method.\n",
    "\n",
    "* `LinearMovementModel` - movement model with  constant velocity\n",
    "* `CycloidMovementModel`- movement model with cycloid trajectory"
   ]
  },
  {
   "cell_type": "code",
   "execution_count": 8,
   "metadata": {},
   "outputs": [],
   "source": [
    "from sdc.linear_movement_model import LinearMovementModel\n",
    "from sdc.cycloid_movement_model import CycloidMovementModel\n",
    "\n",
    "# let's add movement model to our car model\n",
    "movement_model = LinearMovementModel()\n",
    "car.set_movement_model(movement_model)"
   ]
  },
  {
   "cell_type": "code",
   "execution_count": 14,
   "metadata": {},
   "outputs": [
    {
     "name": "stdout",
     "output_type": "stream",
     "text": [
      "Initial state\n",
      " Car(x=3.00[m], y=2.00[m], yaw=0.00[rad], v=5.00[m/s], omega=0.00[rad/s], t=Time(sec=0,nsec=400000000))\n",
      "New state\n",
      " Car(x=8.00[m], y=2.00[m], yaw=0.00[rad], v=5.00[m/s], omega=0.00[rad/s], t=Time(sec=1,nsec=400000000))\n"
     ]
    }
   ],
   "source": [
    "# Now we can move our car\n",
    "print(\"Initial state\\n\", car)\n",
    "dt = Timestamp.seconds(1)\n",
    "car.move(dt)\n",
    "print(\"New state\\n\", car)"
   ]
  },
  {
   "cell_type": "markdown",
   "metadata": {},
   "source": [
    "### Car sensors (classes `CarSensorBase`, `CanSensor`, `GpsSensor`, `ImuSensor`)\n",
    "Return paramenters of car with some level of noise.\n",
    "* `GpsSensor` returns $(x, y)$;\n",
    "* `CanSensor` returns car velocity $v$;\n",
    "* `ImuSensor` returns angular velocity $\\omega$. Should be implemented as a part of the homework."
   ]
  },
  {
   "cell_type": "code",
   "execution_count": 16,
   "metadata": {},
   "outputs": [
    {
     "name": "stdout",
     "output_type": "stream",
     "text": [
      "List of car sensors\n",
      " [<sdc.gps_sensor.GpsSensor object at 0x7f51969f59b0>, <sdc.can_sensor.CanSensor object at 0x7f51969f5a20>, <sdc.gps_sensor.GpsSensor object at 0x7f51969f5ba8>, <sdc.can_sensor.CanSensor object at 0x7f51969f59e8>]\n"
     ]
    }
   ],
   "source": [
    "from sdc.can_sensor import CanSensor\n",
    "from sdc.gps_sensor import GpsSensor\n",
    "from sdc.imu_sensor import ImuSensor\n",
    "\n",
    "gps_noise = [25, 25]  # std deviation == 5 meters\n",
    "gps_sensor = GpsSensor(gps_noise, random_state=0)\n",
    "\n",
    "can_noise = [0.25]  # std deviation == 0.5 m/s for velocity observations\n",
    "can_sensor = CanSensor(can_noise, random_state=1)\n",
    "\n",
    "# Adding sensors to car\n",
    "car.add_sensor(gps_sensor)\n",
    "car.add_sensor(can_sensor)\n",
    "\n",
    "print(\"List of car sensors\\n\", car.sensors)"
   ]
  },
  {
   "cell_type": "markdown",
   "metadata": {},
   "source": [
    "**Let's check sensor observations:**"
   ]
  },
  {
   "cell_type": "code",
   "execution_count": 19,
   "metadata": {},
   "outputs": [
    {
     "name": "stdout",
     "output_type": "stream",
     "text": [
      "Car(x=8.00[m], y=2.00[m], yaw=0.00[rad], v=5.00[m/s], omega=0.00[rad/s], t=Time(sec=1,nsec=400000000))\n",
      "GPS observation = [16.82026173  4.00078604]\n",
      "CAN observation = [5.81217268]\n"
     ]
    }
   ],
   "source": [
    "print(car)\n",
    "\n",
    "# Sensor observations (only after adding sensors to car)\n",
    "gps_observation = gps_sensor.observe()\n",
    "print('GPS observation = {}'.format(gps_observation))\n",
    "\n",
    "can_observation = can_sensor.observe()\n",
    "print('CAN observation = {}'.format(can_observation))"
   ]
  },
  {
   "cell_type": "markdown",
   "metadata": {},
   "source": [
    "**Car movement and sensors:**"
   ]
  },
  {
   "cell_type": "code",
   "execution_count": 24,
   "metadata": {
    "scrolled": true
   },
   "outputs": [
    {
     "name": "stdout",
     "output_type": "stream",
     "text": [
      "Initial car state:  Car(x=2.00[m], y=3.00[m], yaw=0.00[rad], v=10.00[m/s], omega=0.10[rad/s], t=Time(sec=0,nsec=0))\n",
      "dt = Time(sec=1,nsec=0)\n",
      "\n",
      "Current real car state: Car(x=12.00[m], y=3.00[m], yaw=0.10[rad], v=10.00[m/s], omega=0.10[rad/s], t=Time(sec=1,nsec=0))\n",
      "GPS observation = [13.62434536  2.38824359]\n",
      "CAN observation = [9.79162108]\n",
      "\n",
      "Current real car state: Car(x=21.95[m], y=4.00[m], yaw=0.20[rad], v=10.00[m/s], omega=0.10[rad/s], t=Time(sec=2,nsec=0))\n",
      "GPS observation = [21.4218699   2.92536554]\n",
      "CAN observation = [9.97186659]\n",
      "\n",
      "Current real car state: Car(x=31.75[m], y=5.99[m], yaw=0.30[rad], v=10.00[m/s], omega=0.10[rad/s], t=Time(sec=3,nsec=0))\n",
      "GPS observation = [32.61611506  3.68348878]\n",
      "CAN observation = [8.93190195]\n",
      "\n",
      "Current real car state: Car(x=41.30[m], y=8.94[m], yaw=0.40[rad], v=10.00[m/s], omega=0.10[rad/s], t=Time(sec=4,nsec=0))\n",
      "GPS observation = [43.04888409  8.17902264]\n",
      "CAN observation = [10.8201354]\n",
      "\n",
      "Current real car state: Car(x=50.51[m], y=12.83[m], yaw=0.50[rad], v=10.00[m/s], omega=0.10[rad/s], t=Time(sec=5,nsec=0))\n",
      "GPS observation = [50.83372136 12.58504259]\n",
      "CAN observation = [9.10328221]\n",
      "\n",
      "Current real car state: Car(x=59.29[m], y=17.63[m], yaw=0.60[rad], v=10.00[m/s], omega=0.10[rad/s], t=Time(sec=6,nsec=0))\n",
      "GPS observation = [60.75261582 15.56852764]\n",
      "CAN observation = [9.57912632]\n",
      "\n",
      "Current real car state: Car(x=67.54[m], y=23.28[m], yaw=0.70[rad], v=10.00[m/s], omega=0.10[rad/s], t=Time(sec=7,nsec=0))\n",
      "GPS observation = [67.22144683 22.89103873]\n",
      "CAN observation = [10.25144071]\n",
      "\n",
      "Current real car state: Car(x=75.19[m], y=29.72[m], yaw=0.80[rad], v=10.00[m/s], omega=0.10[rad/s], t=Time(sec=8,nsec=0))\n",
      "GPS observation = [76.32605535 28.61737869]\n",
      "CAN observation = [9.37735596]\n",
      "\n",
      "Current real car state: Car(x=82.16[m], y=36.89[m], yaw=0.90[rad], v=10.00[m/s], omega=0.10[rad/s], t=Time(sec=9,nsec=0))\n",
      "GPS observation = [81.98692479 36.01297245]\n",
      "CAN observation = [9.47102389]\n",
      "\n",
      "Current real car state: Car(x=88.38[m], y=44.72[m], yaw=1.00[rad], v=10.00[m/s], omega=0.10[rad/s], t=Time(sec=10,nsec=0))\n",
      "GPS observation = [88.41766643 45.30691518]\n",
      "CAN observation = [9.54549619]\n",
      "\n"
     ]
    }
   ],
   "source": [
    "# 1. car model initialization\n",
    "initial_position = [2, 3]\n",
    "initial_velocity = 10\n",
    "initial_yaw = 0\n",
    "initial_omega = 0.1\n",
    "car = Car(initial_position=initial_position, initial_yaw=initial_yaw,\n",
    "          initial_velocity=initial_velocity, initial_omega=initial_omega)\n",
    "print(\"Initial car state: \", car)\n",
    "\n",
    "assert car._position_x == 2\n",
    "assert car._position_y == 3\n",
    "assert car._yaw == initial_yaw\n",
    "assert car._velocity == initial_velocity\n",
    "assert car._omega == initial_omega\n",
    "assert car._time == Timestamp.seconds(0)\n",
    "\n",
    "# 2. car movement model initialization\n",
    "movement_model = LinearMovementModel()\n",
    "car.set_movement_model(movement_model)\n",
    "\n",
    "# 3. adding sensors\n",
    "gps_sensor = GpsSensor(noise_variances=[1, 1], random_state=1)\n",
    "can_sensor = CanSensor(noise_variances=[0.25], random_state=2)\n",
    "car.add_sensor(gps_sensor)\n",
    "car.add_sensor(can_sensor)\n",
    "\n",
    "# 4. move time step\n",
    "dt = Timestamp.seconds(1)\n",
    "print('dt = {}'.format(dt))\n",
    "\n",
    "# 5. move duration\n",
    "duration = Timestamp.seconds(10)\n",
    "final_time = car.time + duration\n",
    "print('')\n",
    "while car.time < final_time:\n",
    "    car.move(dt)\n",
    "    # sensor observations at time t + dt\n",
    "    gps_observation = car.gps_sensor.observe()\n",
    "    can_observation = car.can_sensor.observe()\n",
    "    print(\"Current real car state:\", car)\n",
    "    print('GPS observation = {}'.format(gps_observation))\n",
    "    print('CAN observation = {}'.format(can_observation))\n",
    "    print('')\n",
    "\n",
    "assert car._time == Timestamp.seconds(10)"
   ]
  },
  {
   "cell_type": "markdown",
   "metadata": {},
   "source": [
    "**Check `funciton sdc.util.create_car`**"
   ]
  },
  {
   "cell_type": "code",
   "execution_count": 29,
   "metadata": {},
   "outputs": [
    {
     "name": "stdout",
     "output_type": "stream",
     "text": [
      "Car(x=5.00[m], y=3.00[m], yaw=1.00[rad], v=2.00[m/s], omega=3.00[rad/s], t=Time(sec=0,nsec=0))\n"
     ]
    }
   ],
   "source": [
    "from sdc.util import create_car\n",
    "\n",
    "car = create_car(initial_position=[5,3], initial_velocity=2, initial_omega=3, initial_yaw=1, \n",
    "                 can_noise_variances=[2], gps_noise_variances=[1,1], random_state=0, \n",
    "                 imu_noise_variances=None)\n",
    "print (car)"
   ]
  },
  {
   "cell_type": "markdown",
   "metadata": {},
   "source": [
    "## 3. Kalman car model of its parameters"
   ]
  },
  {
   "cell_type": "markdown",
   "metadata": {},
   "source": [
    "Classes in this section represent the same entities as in the previous section, but they use kalman model to recover ground truth localization basing on sensor observations."
   ]
  },
  {
   "cell_type": "markdown",
   "metadata": {},
   "source": [
    "### Class `KalmanCar`\n",
    "Kalman analog for `Car` class. \n",
    "  * `state` and `covariance_matrix` fields represent current values of $\\mu(t)$ and $\\Sigma(t)$\n",
    "  * Has a set of kalman models for sensors each of which knows its observation matrix $C$, noise matrix $Q$.\n",
    "  * Each kalman model for sensor can handle real data observations via `process_observation()` method\n",
    "  * `KalmanCar` has kalman model for movement (`KalmanMovementModel`) which defines how parameters change through time.\n",
    "  \n",
    "**Warning:** we use the same number of hidden variables in both `Car` and `KalmanCar`. This is a coincidence, normally a real model depends on thousands of parameters while kalman model depends on a small amount."
   ]
  },
  {
   "cell_type": "code",
   "execution_count": 31,
   "metadata": {},
   "outputs": [
    {
     "name": "stdout",
     "output_type": "stream",
     "text": [
      "KalmanCar(x=5.00[m], y=3.00[m], yaw=1.00[rad], v=2.00[m/s], omega=3.00[rad/s], t=Time(sec=0,nsec=0))\n",
      "\n",
      "Initial kalman state:\n",
      "[5. 3. 1. 2. 3.]\n",
      "\n",
      "Initial kalman covariance matrix:\n",
      "[[100.   0.   0.   0.   0.]\n",
      " [  0. 100.   0.   0.   0.]\n",
      " [  0.   0. 100.   0.   0.]\n",
      " [  0.   0.   0. 100.   0.]\n",
      " [  0.   0.   0.   0. 100.]]\n"
     ]
    }
   ],
   "source": [
    "from sdc.kalman_car import KalmanCar\n",
    "\n",
    "# model initialization\n",
    "kalman_car = KalmanCar(\n",
    "    initial_position=car.initial_position,   # we took initial parameters from real parameters of car\n",
    "    initial_yaw=car.initial_yaw,\n",
    "    initial_velocity=car.initial_velocity,\n",
    "    initial_omega=car.initial_omega)\n",
    "print(kalman_car)\n",
    "print('\\nInitial kalman state:\\n{}\\n'.format(kalman_car.state))\n",
    "print('Initial kalman covariance matrix:\\n{}'.format(kalman_car.covariance_matrix))"
   ]
  },
  {
   "cell_type": "markdown",
   "metadata": {},
   "source": [
    "### Kalman model for sensors (`KalmanCanSensor`, `KalmanGpsSensor`, `KalmanImuSensor`)"
   ]
  },
  {
   "cell_type": "code",
   "execution_count": 33,
   "metadata": {},
   "outputs": [
    {
     "name": "stdout",
     "output_type": "stream",
     "text": [
      "GPS kalman sensor data:\n",
      "Q_gps =\n",
      "[[1 0]\n",
      " [0 1]]\n",
      "C_gps =\n",
      "[[1. 0. 0. 0. 0.]\n",
      " [0. 1. 0. 0. 0.]]\n",
      "\n",
      "CAN kalman sensor data:\n",
      "Q_can =\n",
      "[[2]]\n",
      "C_can =\n",
      "[[0. 0. 0. 1. 0.]]\n",
      "\n"
     ]
    }
   ],
   "source": [
    "from sdc.kalman_can_sensor import KalmanCanSensor\n",
    "from sdc.kalman_gps_sensor import KalmanGpsSensor\n",
    "from sdc.kalman_imu_sensor import KalmanImuSensor\n",
    "\n",
    "expected_gps_noise = car.gps_sensor._noise_variances\n",
    "kalman_gps_sensor = KalmanGpsSensor(noise_variances=expected_gps_noise)\n",
    "\n",
    "expected_can_noise = car.can_sensor._noise_variances\n",
    "kalman_can_sensor = KalmanCanSensor(noise_variances=expected_can_noise)\n",
    "\n",
    "kalman_car.add_sensor(kalman_gps_sensor)\n",
    "kalman_car.add_sensor(kalman_can_sensor)\n",
    "\n",
    "print('GPS kalman sensor data:')\n",
    "print('Q_gps =\\n{}'.format(kalman_car.gps_sensor.get_noise_covariance()))\n",
    "print('C_gps =\\n{}\\n'.format(kalman_car.gps_sensor.get_observation_matrix()))\n",
    "\n",
    "print('CAN kalman sensor data:')\n",
    "print('Q_can =\\n{}'.format(kalman_car.can_sensor.get_noise_covariance()))\n",
    "print('C_can =\\n{}\\n'.format(kalman_car.can_sensor.get_observation_matrix()))"
   ]
  },
  {
   "cell_type": "markdown",
   "metadata": {},
   "source": [
    "**Check `funciton sdc.util.create_kalman_car` that creates kalman model for real car model**"
   ]
  },
  {
   "cell_type": "code",
   "execution_count": 36,
   "metadata": {},
   "outputs": [
    {
     "name": "stdout",
     "output_type": "stream",
     "text": [
      "Car(x=5.00[m], y=3.00[m], yaw=1.00[rad], v=2.00[m/s], omega=3.00[rad/s], t=Time(sec=0,nsec=0))\n",
      "KalmanCar(x=5.00[m], y=3.00[m], yaw=1.00[rad], v=2.00[m/s], omega=3.00[rad/s], t=Time(sec=0,nsec=0))\n"
     ]
    }
   ],
   "source": [
    "from sdc.util import create_kalman_car\n",
    "# we will use actual parameters for variances in kalman model\n",
    "kalman_car = create_kalman_car(car, gps_variances=None, can_variances=None, imu_variances=None)\n",
    "\n",
    "print (car)\n",
    "print (kalman_car)"
   ]
  },
  {
   "cell_type": "markdown",
   "metadata": {},
   "source": [
    "### Methods for kalman filters (`sdc/kalman_filter.py`)\n",
    "* `kalman_transit_covariance(S, A, R)` - returns new covariance matrix on prediction step:\n",
    "    * `S` - covariance matrix from the previous time stamp\n",
    "    * `A` - transition matrix (or Jacobian matrix `J` in case of EKF)\n",
    "    * `R` - noise covariance matrix.\n",
    "* `kalman_process_observation(mu, S, observation, C, Q)` - returns new state with covariance matrix\n",
    "   * `mu` - current estimation of state\n",
    "   * `S` - current estimation of covariance matrix\n",
    "   * `observation` - vector of observation\n",
    "   * `C` - observation matrix\n",
    "   * `Q` - covariance matrix of noise in observation\n",
    "   \n",
    "These two methods should be implemented as a part of homework. `KalmanCar` won't work until these methods are implemented."
   ]
  },
  {
   "cell_type": "markdown",
   "metadata": {},
   "source": [
    "```\n",
    "def kalman_transit_covariance(S, A, R):\n",
    "    assert False, 'Not implemented'\n",
    "\n",
    "def kalman_process_observation(mu, S, observation, C, Q):\n",
    "    assert False, 'Not implemented'\n",
    "```"
   ]
  },
  {
   "cell_type": "markdown",
   "metadata": {},
   "source": [
    "## 4. Visualization (class CarPlotter)"
   ]
  },
  {
   "cell_type": "code",
   "execution_count": 28,
   "metadata": {},
   "outputs": [],
   "source": [
    "from sdc.visualization import CarPlotter"
   ]
  },
  {
   "cell_type": "markdown",
   "metadata": {},
   "source": [
    "### Car trajectory visualiztion"
   ]
  },
  {
   "cell_type": "code",
   "execution_count": 42,
   "metadata": {
    "scrolled": true
   },
   "outputs": [
    {
     "name": "stdout",
     "output_type": "stream",
     "text": [
      "Car(x=20.00[m], y=20.00[m], yaw=0.50[rad], v=10.00[m/s], omega=0.02[rad/s], t=Time(sec=0,nsec=0))\n",
      "Car(x=262.64[m], y=325.76[m], yaw=1.30[rad], v=10.00[m/s], omega=0.02[rad/s], t=Time(sec=40,nsec=99999986))\n"
     ]
    },
    {
     "data": {
      "image/png": "[encoded data removed]",
      "text/plain": [
       "<Figure size 1080x1080 with 1 Axes>"
      ]
     },
     "metadata": {
      "needs_background": "light"
     },
     "output_type": "display_data"
    }
   ],
   "source": [
    "initial_position = [20, 20]\n",
    "initial_velocity = 10\n",
    "initial_yaw = 0.5\n",
    "initial_omega = 0.02\n",
    "\n",
    "car = Car(initial_position=initial_position, initial_velocity=initial_velocity,\n",
    "          initial_yaw=initial_yaw, initial_omega=initial_omega)\n",
    "print(car)\n",
    "\n",
    "movement_model = LinearMovementModel()\n",
    "car.set_movement_model(movement_model)\n",
    "\n",
    "dt = Timestamp.seconds(0.1)\n",
    "duration = Timestamp.seconds(40)\n",
    "final_time = car.time + duration\n",
    "while car.time < final_time:\n",
    "    car.move(dt)\n",
    "print(car)\n",
    "\n",
    "# drawing trajectory\n",
    "fig = plt.figure(figsize=(15, 15))\n",
    "ax = plt.subplot(111, aspect='equal')\n",
    "ax.grid(which='both', linestyle='--', alpha=0.5)\n",
    "\n",
    "car_plotter = CarPlotter(car_width=3, car_length=1.5)\n",
    "car_plotter.plot_car(ax, car)\n",
    "car_plotter.plot_trajectory(ax, car, traj_color='k')\n",
    "\n",
    "# setting appropriate limits\n",
    "x_limits, y_limits = car_plotter.get_limits(car)\n",
    "ax.set_xlim(x_limits)\n",
    "ax.set_ylim(y_limits);"
   ]
  },
  {
   "cell_type": "markdown",
   "metadata": {},
   "source": [
    "### Visualization with GPS and delays"
   ]
  },
  {
   "cell_type": "code",
   "execution_count": 43,
   "metadata": {
    "scrolled": true
   },
   "outputs": [
    {
     "data": {
      "image/png": "[encoded data removed]",
      "text/plain": [
       "<Figure size 1080x1080 with 1 Axes>"
      ]
     },
     "metadata": {},
     "output_type": "display_data"
    },
    {
     "ename": "AssertionError",
     "evalue": "",
     "output_type": "error",
     "traceback": [
      "\u001b[0;31m---------------------------------------------------------------------------\u001b[0m",
      "\u001b[0;31mAssertionError\u001b[0m                            Traceback (most recent call last)",
      "\u001b[0;32m<ipython-input-43-4bf5595e27ca>\u001b[0m in \u001b[0;36m<module>\u001b[0;34m\u001b[0m\n\u001b[1;32m     46\u001b[0m     \u001b[0max\u001b[0m\u001b[0;34m.\u001b[0m\u001b[0mclear\u001b[0m\u001b[0;34m(\u001b[0m\u001b[0;34m)\u001b[0m\u001b[0;34m\u001b[0m\u001b[0;34m\u001b[0m\u001b[0m\n\u001b[1;32m     47\u001b[0m     \u001b[0max\u001b[0m\u001b[0;34m.\u001b[0m\u001b[0mlegend\u001b[0m\u001b[0;34m(\u001b[0m\u001b[0;34m[\u001b[0m\u001b[0mlegend_lines\u001b[0m\u001b[0;34m[\u001b[0m\u001b[0;34m'Measurement'\u001b[0m\u001b[0;34m]\u001b[0m\u001b[0;34m,\u001b[0m \u001b[0mlegend_lines\u001b[0m\u001b[0;34m[\u001b[0m\u001b[0;34m'Real position'\u001b[0m\u001b[0;34m]\u001b[0m\u001b[0;34m]\u001b[0m\u001b[0;34m,\u001b[0m \u001b[0;34m[\u001b[0m\u001b[0;34m'Measurement'\u001b[0m\u001b[0;34m,\u001b[0m \u001b[0;34m'Real position'\u001b[0m\u001b[0;34m]\u001b[0m\u001b[0;34m)\u001b[0m\u001b[0;34m\u001b[0m\u001b[0;34m\u001b[0m\u001b[0m\n\u001b[0;32m---> 48\u001b[0;31m     \u001b[0mcar\u001b[0m\u001b[0;34m.\u001b[0m\u001b[0mmove\u001b[0m\u001b[0;34m(\u001b[0m\u001b[0mdt\u001b[0m\u001b[0;34m)\u001b[0m\u001b[0;34m\u001b[0m\u001b[0;34m\u001b[0m\u001b[0m\n\u001b[0m\u001b[1;32m     49\u001b[0m     \u001b[0mcar_plotter\u001b[0m\u001b[0;34m.\u001b[0m\u001b[0mplot_car\u001b[0m\u001b[0;34m(\u001b[0m\u001b[0max\u001b[0m\u001b[0;34m,\u001b[0m \u001b[0mcar\u001b[0m\u001b[0;34m)\u001b[0m\u001b[0;34m\u001b[0m\u001b[0;34m\u001b[0m\u001b[0m\n\u001b[1;32m     50\u001b[0m     \u001b[0mcar_plotter\u001b[0m\u001b[0;34m.\u001b[0m\u001b[0mplot_trajectory\u001b[0m\u001b[0;34m(\u001b[0m\u001b[0max\u001b[0m\u001b[0;34m,\u001b[0m \u001b[0mcar\u001b[0m\u001b[0;34m,\u001b[0m \u001b[0mtraj_color\u001b[0m\u001b[0;34m=\u001b[0m\u001b[0mreal_color\u001b[0m\u001b[0;34m)\u001b[0m\u001b[0;34m\u001b[0m\u001b[0;34m\u001b[0m\u001b[0m\n",
      "\u001b[0;32m~/shad/sdc_course/rep/seminar01-localization/sdc/car.py\u001b[0m in \u001b[0;36mmove\u001b[0;34m(self, dt)\u001b[0m\n\u001b[1;32m    118\u001b[0m     \u001b[0;32mdef\u001b[0m \u001b[0mmove\u001b[0m\u001b[0;34m(\u001b[0m\u001b[0mself\u001b[0m\u001b[0;34m,\u001b[0m \u001b[0mdt\u001b[0m\u001b[0;34m)\u001b[0m\u001b[0;34m:\u001b[0m\u001b[0;34m\u001b[0m\u001b[0;34m\u001b[0m\u001b[0m\n\u001b[1;32m    119\u001b[0m         \u001b[0;32massert\u001b[0m \u001b[0misinstance\u001b[0m\u001b[0;34m(\u001b[0m\u001b[0mdt\u001b[0m\u001b[0;34m,\u001b[0m \u001b[0mTimestamp\u001b[0m\u001b[0;34m)\u001b[0m\u001b[0;34m\u001b[0m\u001b[0;34m\u001b[0m\u001b[0m\n\u001b[0;32m--> 120\u001b[0;31m         \u001b[0mself\u001b[0m\u001b[0;34m.\u001b[0m\u001b[0m_movement_model\u001b[0m\u001b[0;34m.\u001b[0m\u001b[0m_move\u001b[0m\u001b[0;34m(\u001b[0m\u001b[0mdt\u001b[0m\u001b[0;34m)\u001b[0m\u001b[0;34m\u001b[0m\u001b[0;34m\u001b[0m\u001b[0m\n\u001b[0m\u001b[1;32m    121\u001b[0m         \u001b[0;31m# update car states history\u001b[0m\u001b[0;34m\u001b[0m\u001b[0;34m\u001b[0m\u001b[0;34m\u001b[0m\u001b[0m\n\u001b[1;32m    122\u001b[0m         \u001b[0mself\u001b[0m\u001b[0;34m.\u001b[0m\u001b[0m_positions_x\u001b[0m\u001b[0;34m.\u001b[0m\u001b[0mappend\u001b[0m\u001b[0;34m(\u001b[0m\u001b[0mself\u001b[0m\u001b[0;34m.\u001b[0m\u001b[0m_position_x\u001b[0m\u001b[0;34m)\u001b[0m\u001b[0;34m\u001b[0m\u001b[0;34m\u001b[0m\u001b[0m\n",
      "\u001b[0;32m~/shad/sdc_course/rep/seminar01-localization/sdc/cycloid_movement_model.py\u001b[0m in \u001b[0;36m_move\u001b[0;34m(self, dt)\u001b[0m\n\u001b[1;32m     37\u001b[0m \u001b[0;34m\u001b[0m\u001b[0m\n\u001b[1;32m     38\u001b[0m         \u001b[0;31m# shift car time on dt and set the new state of car\u001b[0m\u001b[0;34m\u001b[0m\u001b[0;34m\u001b[0m\u001b[0;34m\u001b[0m\u001b[0m\n\u001b[0;32m---> 39\u001b[0;31m         \u001b[0mcar\u001b[0m\u001b[0;34m.\u001b[0m\u001b[0mtime\u001b[0m \u001b[0;34m+=\u001b[0m \u001b[0mdt\u001b[0m\u001b[0;34m\u001b[0m\u001b[0;34m\u001b[0m\u001b[0m\n\u001b[0m\u001b[1;32m     40\u001b[0m         \u001b[0mcar\u001b[0m\u001b[0;34m.\u001b[0m\u001b[0m_position_x\u001b[0m \u001b[0;34m=\u001b[0m \u001b[0mnew_x\u001b[0m\u001b[0;34m\u001b[0m\u001b[0;34m\u001b[0m\u001b[0m\n\u001b[1;32m     41\u001b[0m         \u001b[0mcar\u001b[0m\u001b[0;34m.\u001b[0m\u001b[0m_position_y\u001b[0m \u001b[0;34m=\u001b[0m \u001b[0mnew_y\u001b[0m\u001b[0;34m\u001b[0m\u001b[0;34m\u001b[0m\u001b[0m\n",
      "\u001b[0;32m~/shad/sdc_course/rep/seminar01-localization/sdc/timestamp.py\u001b[0m in \u001b[0;36m__iadd__\u001b[0;34m(self, rhs)\u001b[0m\n\u001b[1;32m     81\u001b[0m         \u001b[0mnsec\u001b[0m \u001b[0;34m=\u001b[0m \u001b[0mself\u001b[0m\u001b[0;34m.\u001b[0m\u001b[0mto_nanoseconds\u001b[0m\u001b[0;34m(\u001b[0m\u001b[0;34m)\u001b[0m \u001b[0;34m+\u001b[0m \u001b[0mrhs\u001b[0m\u001b[0;34m.\u001b[0m\u001b[0mto_nanoseconds\u001b[0m\u001b[0;34m(\u001b[0m\u001b[0;34m)\u001b[0m\u001b[0;34m\u001b[0m\u001b[0;34m\u001b[0m\u001b[0m\n\u001b[1;32m     82\u001b[0m         \u001b[0mself\u001b[0m\u001b[0;34m.\u001b[0m\u001b[0msec\u001b[0m \u001b[0;34m=\u001b[0m \u001b[0mnsec\u001b[0m \u001b[0;34m//\u001b[0m \u001b[0mself\u001b[0m\u001b[0;34m.\u001b[0m\u001b[0mNANO_SEC_COEFF\u001b[0m\u001b[0;34m\u001b[0m\u001b[0;34m\u001b[0m\u001b[0m\n\u001b[0;32m---> 83\u001b[0;31m         \u001b[0mself\u001b[0m\u001b[0;34m.\u001b[0m\u001b[0mnsec\u001b[0m \u001b[0;34m=\u001b[0m \u001b[0mnsec\u001b[0m \u001b[0;34m-\u001b[0m \u001b[0mself\u001b[0m\u001b[0;34m.\u001b[0m\u001b[0msec\u001b[0m \u001b[0;34m*\u001b[0m \u001b[0mself\u001b[0m\u001b[0;34m.\u001b[0m\u001b[0mNANO_SEC_COEFF\u001b[0m\u001b[0;34m\u001b[0m\u001b[0;34m\u001b[0m\u001b[0m\n\u001b[0m\u001b[1;32m     84\u001b[0m         \u001b[0;32mreturn\u001b[0m \u001b[0mself\u001b[0m\u001b[0;34m\u001b[0m\u001b[0;34m\u001b[0m\u001b[0m\n\u001b[1;32m     85\u001b[0m \u001b[0;34m\u001b[0m\u001b[0m\n",
      "\u001b[0;32m~/shad/sdc_course/rep/seminar01-localization/sdc/timestamp.py\u001b[0m in \u001b[0;36mnsec\u001b[0;34m(self, nsec)\u001b[0m\n\u001b[1;32m    103\u001b[0m     \u001b[0;34m@\u001b[0m\u001b[0mnsec\u001b[0m\u001b[0;34m.\u001b[0m\u001b[0msetter\u001b[0m\u001b[0;34m\u001b[0m\u001b[0;34m\u001b[0m\u001b[0m\n\u001b[1;32m    104\u001b[0m     \u001b[0;32mdef\u001b[0m \u001b[0mnsec\u001b[0m\u001b[0;34m(\u001b[0m\u001b[0mself\u001b[0m\u001b[0;34m,\u001b[0m \u001b[0mnsec\u001b[0m\u001b[0;34m)\u001b[0m\u001b[0;34m:\u001b[0m\u001b[0;34m\u001b[0m\u001b[0;34m\u001b[0m\u001b[0m\n\u001b[0;32m--> 105\u001b[0;31m         \u001b[0;32massert\u001b[0m \u001b[0mnsec\u001b[0m \u001b[0;34m==\u001b[0m \u001b[0mint\u001b[0m\u001b[0;34m(\u001b[0m\u001b[0mnsec\u001b[0m\u001b[0;34m)\u001b[0m\u001b[0;34m\u001b[0m\u001b[0;34m\u001b[0m\u001b[0m\n\u001b[0m\u001b[1;32m    106\u001b[0m         \u001b[0;32massert\u001b[0m \u001b[0mnsec\u001b[0m \u001b[0;34m>=\u001b[0m \u001b[0;36m0\u001b[0m\u001b[0;34m\u001b[0m\u001b[0;34m\u001b[0m\u001b[0m\n\u001b[1;32m    107\u001b[0m         \u001b[0;32massert\u001b[0m \u001b[0mnsec\u001b[0m \u001b[0;34m<\u001b[0m \u001b[0mself\u001b[0m\u001b[0;34m.\u001b[0m\u001b[0mNANO_SEC_COEFF\u001b[0m\u001b[0;34m\u001b[0m\u001b[0;34m\u001b[0m\u001b[0m\n",
      "\u001b[0;31mAssertionError\u001b[0m: "
     ]
    },
    {
     "data": {
      "image/png": "[encoded data removed]",
      "text/plain": [
       "<Figure size 1080x1080 with 1 Axes>"
      ]
     },
     "metadata": {
      "needs_background": "light"
     },
     "output_type": "display_data"
    }
   ],
   "source": [
    "fig = plt.figure(figsize=(15, 15))\n",
    "ax = plt.subplot(111, aspect='equal')\n",
    "real_color = 'green'\n",
    "obs_color = 'blue'\n",
    "est_color = 'red'\n",
    "\n",
    "legend_lines = {'Measurement': Line2D([0], [0], color=obs_color, lw=4),\n",
    "                'Real position': Line2D([0], [0], color=real_color, lw=4)}\n",
    "\n",
    "# adding the sensors\n",
    "initial_position= [5, 5]\n",
    "initial_velocity = 10\n",
    "initial_yaw = 0.1\n",
    "initial_omega = 0.0\n",
    "car = Car(\n",
    "    initial_position=initial_position,\n",
    "    initial_velocity=initial_velocity,\n",
    "    initial_yaw=initial_yaw,\n",
    "    initial_omega=initial_omega)\n",
    "car.add_sensor(CanSensor(noise_variances=[0.25], random_state=1))  # std = 1 m/s\n",
    "car.add_sensor(GpsSensor(noise_variances=[1., 1.], random_state=2))  # std = 3 m\n",
    "\n",
    "movement_model = CycloidMovementModel(x_vel=2, y_vel=0.5, omega=0.4)\n",
    "#movement_model = LinearMovementModel()\n",
    "car.set_movement_model(movement_model)\n",
    " \n",
    "# time step\n",
    "dt = Timestamp.seconds(0.1)\n",
    "# time duration\n",
    "duration = Timestamp.seconds(10)\n",
    "\n",
    "car_plotter = CarPlotter(car_width=3, car_length=1.5,\n",
    "                         real_color=real_color, obs_color=obs_color, pred_color=est_color)\n",
    "car_plotter.plot_car(ax, car)\n",
    "\n",
    "final_time = car.time + duration\n",
    "\n",
    "# drawing the initial position\n",
    "car_plotter.plot_car(ax, car)\n",
    "display.clear_output(wait=True)\n",
    "time.sleep(0.25)\n",
    "ax.set_xlim(-5, 150)\n",
    "ax.set_ylim(-5, 150)\n",
    "\n",
    "while car.time < final_time:\n",
    "    ax.clear()\n",
    "    ax.legend([legend_lines['Measurement'], legend_lines['Real position']], ['Measurement', 'Real position'])\n",
    "    car.move(dt)\n",
    "    car_plotter.plot_car(ax, car)\n",
    "    car_plotter.plot_trajectory(ax, car, traj_color=real_color)\n",
    "    ax.set_xlim(-20, 75)\n",
    "    ax.set_ylim(-20, 75)\n",
    "    display.clear_output(wait=True)\n",
    "    display.display(plt.gcf())\n",
    "    time.sleep(0.1)\n",
    "\n",
    "display.clear_output(wait=True)"
   ]
  },
  {
   "cell_type": "markdown",
   "metadata": {},
   "source": [
    "### Testing kalman filters (won't work without implementation of methods in `sdc.kalman_filter`)"
   ]
  },
  {
   "cell_type": "code",
   "execution_count": 46,
   "metadata": {
    "scrolled": true
   },
   "outputs": [
    {
     "ename": "KeyboardInterrupt",
     "evalue": "",
     "output_type": "error",
     "traceback": [
      "\u001b[0;31m---------------------------------------------------------------------------\u001b[0m",
      "\u001b[0;31mKeyboardInterrupt\u001b[0m                         Traceback (most recent call last)",
      "\u001b[0;32m<ipython-input-46-3c9eda96d582>\u001b[0m in \u001b[0;36m<module>\u001b[0;34m\u001b[0m\n\u001b[1;32m     48\u001b[0m     \u001b[0max\u001b[0m\u001b[0;34m.\u001b[0m\u001b[0mset_ylim\u001b[0m\u001b[0;34m(\u001b[0m\u001b[0;34m-\u001b[0m\u001b[0;36m5\u001b[0m\u001b[0;34m,\u001b[0m \u001b[0;36m100\u001b[0m\u001b[0;34m)\u001b[0m\u001b[0;34m\u001b[0m\u001b[0;34m\u001b[0m\u001b[0m\n\u001b[1;32m     49\u001b[0m     \u001b[0mdisplay\u001b[0m\u001b[0;34m.\u001b[0m\u001b[0mclear_output\u001b[0m\u001b[0;34m(\u001b[0m\u001b[0mwait\u001b[0m\u001b[0;34m=\u001b[0m\u001b[0;32mTrue\u001b[0m\u001b[0;34m)\u001b[0m\u001b[0;34m\u001b[0m\u001b[0;34m\u001b[0m\u001b[0m\n\u001b[0;32m---> 50\u001b[0;31m     \u001b[0mdisplay\u001b[0m\u001b[0;34m.\u001b[0m\u001b[0mdisplay\u001b[0m\u001b[0;34m(\u001b[0m\u001b[0mplt\u001b[0m\u001b[0;34m.\u001b[0m\u001b[0mgcf\u001b[0m\u001b[0;34m(\u001b[0m\u001b[0;34m)\u001b[0m\u001b[0;34m)\u001b[0m\u001b[0;34m\u001b[0m\u001b[0;34m\u001b[0m\u001b[0m\n\u001b[0m\u001b[1;32m     51\u001b[0m     \u001b[0mtime\u001b[0m\u001b[0;34m.\u001b[0m\u001b[0msleep\u001b[0m\u001b[0;34m(\u001b[0m\u001b[0;36m0.1\u001b[0m\u001b[0;34m)\u001b[0m\u001b[0;34m\u001b[0m\u001b[0;34m\u001b[0m\u001b[0m\n\u001b[1;32m     52\u001b[0m \u001b[0;34m\u001b[0m\u001b[0m\n",
      "\u001b[0;32m/usr/local/lib/python3.6/dist-packages/IPython/core/display.py\u001b[0m in \u001b[0;36mdisplay\u001b[0;34m(include, exclude, metadata, transient, display_id, *objs, **kwargs)\u001b[0m\n\u001b[1;32m    302\u001b[0m             \u001b[0mpublish_display_data\u001b[0m\u001b[0;34m(\u001b[0m\u001b[0mdata\u001b[0m\u001b[0;34m=\u001b[0m\u001b[0mobj\u001b[0m\u001b[0;34m,\u001b[0m \u001b[0mmetadata\u001b[0m\u001b[0;34m=\u001b[0m\u001b[0mmetadata\u001b[0m\u001b[0;34m,\u001b[0m \u001b[0;34m**\u001b[0m\u001b[0mkwargs\u001b[0m\u001b[0;34m)\u001b[0m\u001b[0;34m\u001b[0m\u001b[0;34m\u001b[0m\u001b[0m\n\u001b[1;32m    303\u001b[0m         \u001b[0;32melse\u001b[0m\u001b[0;34m:\u001b[0m\u001b[0;34m\u001b[0m\u001b[0;34m\u001b[0m\u001b[0m\n\u001b[0;32m--> 304\u001b[0;31m             \u001b[0mformat_dict\u001b[0m\u001b[0;34m,\u001b[0m \u001b[0mmd_dict\u001b[0m \u001b[0;34m=\u001b[0m \u001b[0mformat\u001b[0m\u001b[0;34m(\u001b[0m\u001b[0mobj\u001b[0m\u001b[0;34m,\u001b[0m \u001b[0minclude\u001b[0m\u001b[0;34m=\u001b[0m\u001b[0minclude\u001b[0m\u001b[0;34m,\u001b[0m \u001b[0mexclude\u001b[0m\u001b[0;34m=\u001b[0m\u001b[0mexclude\u001b[0m\u001b[0;34m)\u001b[0m\u001b[0;34m\u001b[0m\u001b[0;34m\u001b[0m\u001b[0m\n\u001b[0m\u001b[1;32m    305\u001b[0m             \u001b[0;32mif\u001b[0m \u001b[0;32mnot\u001b[0m \u001b[0mformat_dict\u001b[0m\u001b[0;34m:\u001b[0m\u001b[0;34m\u001b[0m\u001b[0;34m\u001b[0m\u001b[0m\n\u001b[1;32m    306\u001b[0m                 \u001b[0;31m# nothing to display (e.g. _ipython_display_ took over)\u001b[0m\u001b[0;34m\u001b[0m\u001b[0;34m\u001b[0m\u001b[0;34m\u001b[0m\u001b[0m\n",
      "\u001b[0;32m/usr/local/lib/python3.6/dist-packages/IPython/core/formatters.py\u001b[0m in \u001b[0;36mformat\u001b[0;34m(self, obj, include, exclude)\u001b[0m\n\u001b[1;32m    178\u001b[0m             \u001b[0mmd\u001b[0m \u001b[0;34m=\u001b[0m \u001b[0;32mNone\u001b[0m\u001b[0;34m\u001b[0m\u001b[0;34m\u001b[0m\u001b[0m\n\u001b[1;32m    179\u001b[0m             \u001b[0;32mtry\u001b[0m\u001b[0;34m:\u001b[0m\u001b[0;34m\u001b[0m\u001b[0;34m\u001b[0m\u001b[0m\n\u001b[0;32m--> 180\u001b[0;31m                 \u001b[0mdata\u001b[0m \u001b[0;34m=\u001b[0m \u001b[0mformatter\u001b[0m\u001b[0;34m(\u001b[0m\u001b[0mobj\u001b[0m\u001b[0;34m)\u001b[0m\u001b[0;34m\u001b[0m\u001b[0;34m\u001b[0m\u001b[0m\n\u001b[0m\u001b[1;32m    181\u001b[0m             \u001b[0;32mexcept\u001b[0m\u001b[0;34m:\u001b[0m\u001b[0;34m\u001b[0m\u001b[0;34m\u001b[0m\u001b[0m\n\u001b[1;32m    182\u001b[0m                 \u001b[0;31m# FIXME: log the exception\u001b[0m\u001b[0;34m\u001b[0m\u001b[0;34m\u001b[0m\u001b[0;34m\u001b[0m\u001b[0m\n",
      "\u001b[0;32m<decorator-gen-9>\u001b[0m in \u001b[0;36m__call__\u001b[0;34m(self, obj)\u001b[0m\n",
      "\u001b[0;32m/usr/local/lib/python3.6/dist-packages/IPython/core/formatters.py\u001b[0m in \u001b[0;36mcatch_format_error\u001b[0;34m(method, self, *args, **kwargs)\u001b[0m\n\u001b[1;32m    222\u001b[0m     \u001b[0;34m\"\"\"show traceback on failed format call\"\"\"\u001b[0m\u001b[0;34m\u001b[0m\u001b[0;34m\u001b[0m\u001b[0m\n\u001b[1;32m    223\u001b[0m     \u001b[0;32mtry\u001b[0m\u001b[0;34m:\u001b[0m\u001b[0;34m\u001b[0m\u001b[0;34m\u001b[0m\u001b[0m\n\u001b[0;32m--> 224\u001b[0;31m         \u001b[0mr\u001b[0m \u001b[0;34m=\u001b[0m \u001b[0mmethod\u001b[0m\u001b[0;34m(\u001b[0m\u001b[0mself\u001b[0m\u001b[0;34m,\u001b[0m \u001b[0;34m*\u001b[0m\u001b[0margs\u001b[0m\u001b[0;34m,\u001b[0m \u001b[0;34m**\u001b[0m\u001b[0mkwargs\u001b[0m\u001b[0;34m)\u001b[0m\u001b[0;34m\u001b[0m\u001b[0;34m\u001b[0m\u001b[0m\n\u001b[0m\u001b[1;32m    225\u001b[0m     \u001b[0;32mexcept\u001b[0m \u001b[0mNotImplementedError\u001b[0m\u001b[0;34m:\u001b[0m\u001b[0;34m\u001b[0m\u001b[0;34m\u001b[0m\u001b[0m\n\u001b[1;32m    226\u001b[0m         \u001b[0;31m# don't warn on NotImplementedErrors\u001b[0m\u001b[0;34m\u001b[0m\u001b[0;34m\u001b[0m\u001b[0;34m\u001b[0m\u001b[0m\n",
      "\u001b[0;32m/usr/local/lib/python3.6/dist-packages/IPython/core/formatters.py\u001b[0m in \u001b[0;36m__call__\u001b[0;34m(self, obj)\u001b[0m\n\u001b[1;32m    339\u001b[0m                 \u001b[0;32mpass\u001b[0m\u001b[0;34m\u001b[0m\u001b[0;34m\u001b[0m\u001b[0m\n\u001b[1;32m    340\u001b[0m             \u001b[0;32melse\u001b[0m\u001b[0;34m:\u001b[0m\u001b[0;34m\u001b[0m\u001b[0;34m\u001b[0m\u001b[0m\n\u001b[0;32m--> 341\u001b[0;31m                 \u001b[0;32mreturn\u001b[0m \u001b[0mprinter\u001b[0m\u001b[0;34m(\u001b[0m\u001b[0mobj\u001b[0m\u001b[0;34m)\u001b[0m\u001b[0;34m\u001b[0m\u001b[0;34m\u001b[0m\u001b[0m\n\u001b[0m\u001b[1;32m    342\u001b[0m             \u001b[0;31m# Finally look for special method names\u001b[0m\u001b[0;34m\u001b[0m\u001b[0;34m\u001b[0m\u001b[0;34m\u001b[0m\u001b[0m\n\u001b[1;32m    343\u001b[0m             \u001b[0mmethod\u001b[0m \u001b[0;34m=\u001b[0m \u001b[0mget_real_method\u001b[0m\u001b[0;34m(\u001b[0m\u001b[0mobj\u001b[0m\u001b[0;34m,\u001b[0m \u001b[0mself\u001b[0m\u001b[0;34m.\u001b[0m\u001b[0mprint_method\u001b[0m\u001b[0;34m)\u001b[0m\u001b[0;34m\u001b[0m\u001b[0;34m\u001b[0m\u001b[0m\n",
      "\u001b[0;32m/usr/local/lib/python3.6/dist-packages/IPython/core/pylabtools.py\u001b[0m in \u001b[0;36m<lambda>\u001b[0;34m(fig)\u001b[0m\n\u001b[1;32m    242\u001b[0m \u001b[0;34m\u001b[0m\u001b[0m\n\u001b[1;32m    243\u001b[0m     \u001b[0;32mif\u001b[0m \u001b[0;34m'png'\u001b[0m \u001b[0;32min\u001b[0m \u001b[0mformats\u001b[0m\u001b[0;34m:\u001b[0m\u001b[0;34m\u001b[0m\u001b[0;34m\u001b[0m\u001b[0m\n\u001b[0;32m--> 244\u001b[0;31m         \u001b[0mpng_formatter\u001b[0m\u001b[0;34m.\u001b[0m\u001b[0mfor_type\u001b[0m\u001b[0;34m(\u001b[0m\u001b[0mFigure\u001b[0m\u001b[0;34m,\u001b[0m \u001b[0;32mlambda\u001b[0m \u001b[0mfig\u001b[0m\u001b[0;34m:\u001b[0m \u001b[0mprint_figure\u001b[0m\u001b[0;34m(\u001b[0m\u001b[0mfig\u001b[0m\u001b[0;34m,\u001b[0m \u001b[0;34m'png'\u001b[0m\u001b[0;34m,\u001b[0m \u001b[0;34m**\u001b[0m\u001b[0mkwargs\u001b[0m\u001b[0;34m)\u001b[0m\u001b[0;34m)\u001b[0m\u001b[0;34m\u001b[0m\u001b[0;34m\u001b[0m\u001b[0m\n\u001b[0m\u001b[1;32m    245\u001b[0m     \u001b[0;32mif\u001b[0m \u001b[0;34m'retina'\u001b[0m \u001b[0;32min\u001b[0m \u001b[0mformats\u001b[0m \u001b[0;32mor\u001b[0m \u001b[0;34m'png2x'\u001b[0m \u001b[0;32min\u001b[0m \u001b[0mformats\u001b[0m\u001b[0;34m:\u001b[0m\u001b[0;34m\u001b[0m\u001b[0;34m\u001b[0m\u001b[0m\n\u001b[1;32m    246\u001b[0m         \u001b[0mpng_formatter\u001b[0m\u001b[0;34m.\u001b[0m\u001b[0mfor_type\u001b[0m\u001b[0;34m(\u001b[0m\u001b[0mFigure\u001b[0m\u001b[0;34m,\u001b[0m \u001b[0;32mlambda\u001b[0m \u001b[0mfig\u001b[0m\u001b[0;34m:\u001b[0m \u001b[0mretina_figure\u001b[0m\u001b[0;34m(\u001b[0m\u001b[0mfig\u001b[0m\u001b[0;34m,\u001b[0m \u001b[0;34m**\u001b[0m\u001b[0mkwargs\u001b[0m\u001b[0;34m)\u001b[0m\u001b[0;34m)\u001b[0m\u001b[0;34m\u001b[0m\u001b[0;34m\u001b[0m\u001b[0m\n",
      "\u001b[0;32m/usr/local/lib/python3.6/dist-packages/IPython/core/pylabtools.py\u001b[0m in \u001b[0;36mprint_figure\u001b[0;34m(fig, fmt, bbox_inches, **kwargs)\u001b[0m\n\u001b[1;32m    126\u001b[0m \u001b[0;34m\u001b[0m\u001b[0m\n\u001b[1;32m    127\u001b[0m     \u001b[0mbytes_io\u001b[0m \u001b[0;34m=\u001b[0m \u001b[0mBytesIO\u001b[0m\u001b[0;34m(\u001b[0m\u001b[0;34m)\u001b[0m\u001b[0;34m\u001b[0m\u001b[0;34m\u001b[0m\u001b[0m\n\u001b[0;32m--> 128\u001b[0;31m     \u001b[0mfig\u001b[0m\u001b[0;34m.\u001b[0m\u001b[0mcanvas\u001b[0m\u001b[0;34m.\u001b[0m\u001b[0mprint_figure\u001b[0m\u001b[0;34m(\u001b[0m\u001b[0mbytes_io\u001b[0m\u001b[0;34m,\u001b[0m \u001b[0;34m**\u001b[0m\u001b[0mkw\u001b[0m\u001b[0;34m)\u001b[0m\u001b[0;34m\u001b[0m\u001b[0;34m\u001b[0m\u001b[0m\n\u001b[0m\u001b[1;32m    129\u001b[0m     \u001b[0mdata\u001b[0m \u001b[0;34m=\u001b[0m \u001b[0mbytes_io\u001b[0m\u001b[0;34m.\u001b[0m\u001b[0mgetvalue\u001b[0m\u001b[0;34m(\u001b[0m\u001b[0;34m)\u001b[0m\u001b[0;34m\u001b[0m\u001b[0;34m\u001b[0m\u001b[0m\n\u001b[1;32m    130\u001b[0m     \u001b[0;32mif\u001b[0m \u001b[0mfmt\u001b[0m \u001b[0;34m==\u001b[0m \u001b[0;34m'svg'\u001b[0m\u001b[0;34m:\u001b[0m\u001b[0;34m\u001b[0m\u001b[0;34m\u001b[0m\u001b[0m\n",
      "\u001b[0;32m/usr/local/lib/python3.6/dist-packages/matplotlib/backend_bases.py\u001b[0m in \u001b[0;36mprint_figure\u001b[0;34m(self, filename, dpi, facecolor, edgecolor, orientation, format, bbox_inches, **kwargs)\u001b[0m\n\u001b[1;32m   2103\u001b[0m                     \u001b[0morientation\u001b[0m\u001b[0;34m=\u001b[0m\u001b[0morientation\u001b[0m\u001b[0;34m,\u001b[0m\u001b[0;34m\u001b[0m\u001b[0;34m\u001b[0m\u001b[0m\n\u001b[1;32m   2104\u001b[0m                     \u001b[0mbbox_inches_restore\u001b[0m\u001b[0;34m=\u001b[0m\u001b[0m_bbox_inches_restore\u001b[0m\u001b[0;34m,\u001b[0m\u001b[0;34m\u001b[0m\u001b[0;34m\u001b[0m\u001b[0m\n\u001b[0;32m-> 2105\u001b[0;31m                     **kwargs)\n\u001b[0m\u001b[1;32m   2106\u001b[0m             \u001b[0;32mfinally\u001b[0m\u001b[0;34m:\u001b[0m\u001b[0;34m\u001b[0m\u001b[0;34m\u001b[0m\u001b[0m\n\u001b[1;32m   2107\u001b[0m                 \u001b[0;32mif\u001b[0m \u001b[0mbbox_inches\u001b[0m \u001b[0;32mand\u001b[0m \u001b[0mrestore_bbox\u001b[0m\u001b[0;34m:\u001b[0m\u001b[0;34m\u001b[0m\u001b[0;34m\u001b[0m\u001b[0m\n",
      "\u001b[0;32m/usr/local/lib/python3.6/dist-packages/matplotlib/backends/backend_agg.py\u001b[0m in \u001b[0;36mprint_png\u001b[0;34m(self, filename_or_obj, metadata, pil_kwargs, *args, **kwargs)\u001b[0m\n\u001b[1;32m    535\u001b[0m             \u001b[0;32mwith\u001b[0m \u001b[0mcbook\u001b[0m\u001b[0;34m.\u001b[0m\u001b[0mopen_file_cm\u001b[0m\u001b[0;34m(\u001b[0m\u001b[0mfilename_or_obj\u001b[0m\u001b[0;34m,\u001b[0m \u001b[0;34m\"wb\"\u001b[0m\u001b[0;34m)\u001b[0m \u001b[0;32mas\u001b[0m \u001b[0mfh\u001b[0m\u001b[0;34m:\u001b[0m\u001b[0;34m\u001b[0m\u001b[0;34m\u001b[0m\u001b[0m\n\u001b[1;32m    536\u001b[0m                 _png.write_png(renderer._renderer, fh, self.figure.dpi,\n\u001b[0;32m--> 537\u001b[0;31m                                metadata={**default_metadata, **metadata})\n\u001b[0m\u001b[1;32m    538\u001b[0m \u001b[0;34m\u001b[0m\u001b[0m\n\u001b[1;32m    539\u001b[0m     \u001b[0;32mdef\u001b[0m \u001b[0mprint_to_buffer\u001b[0m\u001b[0;34m(\u001b[0m\u001b[0mself\u001b[0m\u001b[0;34m)\u001b[0m\u001b[0;34m:\u001b[0m\u001b[0;34m\u001b[0m\u001b[0;34m\u001b[0m\u001b[0m\n",
      "\u001b[0;31mKeyboardInterrupt\u001b[0m: "
     ]
    },
    {
     "data": {
      "image/png": "[encoded data removed]",
      "text/plain": [
       "<Figure size 1080x1080 with 1 Axes>"
      ]
     },
     "metadata": {
      "needs_background": "light"
     },
     "output_type": "display_data"
    }
   ],
   "source": [
    "car = create_car(initial_omega=0.05)\n",
    "kalman_car = create_kalman_car(car)\n",
    "\n",
    "fig = plt.figure(figsize=(15, 15))\n",
    "ax = plt.subplot(111, aspect='equal')\n",
    "real_color = 'green'\n",
    "obs_color = 'blue'\n",
    "est_color = 'red'\n",
    "\n",
    "legend_lines = {'Kalman estimate': Line2D([0], [0], color=est_color, lw=4),\n",
    "                'Measurement': Line2D([0], [0], color=obs_color, lw=4),\n",
    "                'Real position': Line2D([0], [0], color=real_color, lw=4)}\n",
    "\n",
    "dt = Timestamp.seconds(0.1)\n",
    "duration = Timestamp.seconds(40)\n",
    "final_time = car.time + duration\n",
    "\n",
    "car_plotter = CarPlotter(\n",
    "    car_width=3, car_length=1.5,\n",
    "    real_color=real_color, obs_color=obs_color, pred_color=est_color)\n",
    "car_plotter.plot_car(ax, car)\n",
    "\n",
    "# drawing the initial position\n",
    "car_plotter.plot_car(ax, car)\n",
    "display.clear_output(wait=True)\n",
    "time.sleep(0.25)\n",
    "ax.set_xlim(-10, 100)\n",
    "ax.set_ylim(-10, 100)\n",
    "\n",
    "while car.time < final_time:\n",
    "    ax.clear()\n",
    "    ax.legend([legend_lines['Kalman estimate'],\n",
    "               legend_lines['Measurement'],\n",
    "               legend_lines['Real position']], ['Kalman estimate', 'Measurement', 'Real position'])\n",
    "    car.move(dt) # moving car model at time t+dt\n",
    "    kalman_car.move(dt)  # prediction car state at t+dt\n",
    "    # updating state according to observation\n",
    "    for sensor, kalman_sensor in zip(car.sensors, kalman_car.sensors):\n",
    "        observation = sensor.observe()\n",
    "        kalman_sensor.process_observation(observation)\n",
    "        \n",
    "    car_plotter.plot_car(ax, car)\n",
    "    car_plotter.plot_kalman_car(ax, kalman_car)\n",
    "    car_plotter.plot_trajectory(ax, car, traj_color=real_color)\n",
    "    car_plotter.plot_trajectory(ax, kalman_car, traj_color=est_color)\n",
    "    car_plotter.plot_observations(ax, car.gps_sensor.history[:, 0], car.gps_sensor.history[:, 1], color=obs_color)\n",
    "    ax.set_xlim(-5, 100)\n",
    "    ax.set_ylim(-5, 100)\n",
    "    display.clear_output(wait=True)\n",
    "    display.display(plt.gcf())\n",
    "    time.sleep(0.1)\n",
    "\n",
    "display.clear_output(wait=True)"
   ]
  }
 ],
 "metadata": {
  "kernelspec": {
   "display_name": "Python 3",
   "language": "python",
   "name": "python3"
  },
  "language_info": {
   "codemirror_mode": {
    "name": "ipython",
    "version": 3
   },
   "file_extension": ".py",
   "mimetype": "text/x-python",
   "name": "python",
   "nbconvert_exporter": "python",
   "pygments_lexer": "ipython3",
   "version": "3.6.8"
  }
 },
 "nbformat": 4,
 "nbformat_minor": 2
}
