{
 "cells": [
  {
   "cell_type": "markdown",
   "metadata": {
    "deletable": true,
    "editable": true
   },
   "source": [
    "### Детекция препятствия в лидарном облаке"
   ]
  },
  {
   "cell_type": "code",
   "execution_count": 2,
   "metadata": {
    "collapsed": false,
    "deletable": true,
    "editable": true
   },
   "outputs": [],
   "source": [
    "import pandas as pd\n",
    "import numpy as np\n",
    "from scipy import misc\n",
    "import matplotlib.pyplot as plt\n",
    "import matplotlib.image as mpimg\n",
    "left_side_img = mpimg.imread('left_side_homework.png')\n",
    "front_img = mpimg.imread('front_homework.png')\n",
    "right_side_img = mpimg.imread('right_side_homework.png')\n",
    "point_cloud = pd.read_csv(\"pc1_homework.csv\")\n",
    "point_cloud_2 = pd.read_csv(\"pc2_homework.csv\")"
   ]
  },
  {
   "cell_type": "markdown",
   "metadata": {
    "deletable": true,
    "editable": true
   },
   "source": [
    "### Необходимо написать Virtual Scan\n",
    "В реализации на семинаре было сделано предположение, что кольца лидара параллельны земле,\n",
    "но на данной машине стоит 2 лидара направленные под разными углами к земле.\n",
    "Нужно переписать реализацию с семинара, чтобы она работала с произвольными облаками точек,\n",
    "после чего склеить 2 облака - и найти препятствия"
   ]
  },
  {
   "cell_type": "markdown",
   "metadata": {},
   "source": [
    "### Необходимо написать Сферический фильтр\n",
    "К сожалению, данные были собраны в то время, когда шёл снег. Обычный сферический фильтр описанный на лекции может легко выфильтровать снег."
   ]
  },
  {
   "cell_type": "markdown",
   "metadata": {},
   "source": [
    "### Что мы хотим увидеть?\n",
    "Красивые картинки, которые покажут, что VScan работает. Было бы неплохо посмотреть - имеется ли прирост качества при использовании 2лидаров."
   ]
  }
 ],
 "metadata": {
  "kernelspec": {
   "display_name": "Python 2",
   "language": "python",
   "name": "python2"
  },
  "language_info": {
   "codemirror_mode": {
    "name": "ipython",
    "version": 2
   },
   "file_extension": ".py",
   "mimetype": "text/x-python",
   "name": "python",
   "nbconvert_exporter": "python",
   "pygments_lexer": "ipython2",
   "version": "2.7.12"
  }
 },
 "nbformat": 4,
 "nbformat_minor": 2
}
